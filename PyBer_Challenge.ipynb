{
 "cells": [
  {
   "cell_type": "code",
   "execution_count": 693,
   "metadata": {},
   "outputs": [],
   "source": [
    "%matplotlib inline"
   ]
  },
  {
   "cell_type": "code",
   "execution_count": 694,
   "metadata": {},
   "outputs": [],
   "source": [
    "#import dependencies\n",
    "import matplotlib.pyplot as plt\n",
    "import pandas as pd\n",
    "import os"
   ]
  },
  {
   "cell_type": "code",
   "execution_count": 695,
   "metadata": {},
   "outputs": [],
   "source": [
    "#file to load for city and ride data from csv\n",
    "city_data_to_load = os.path.join(\"Resources\", \"city_data.csv\")\n",
    "ride_data_to_load = os.path.join(\"Resources\", \"ride_data.csv\")\n"
   ]
  },
  {
   "cell_type": "code",
   "execution_count": 696,
   "metadata": {},
   "outputs": [
    {
     "data": {
      "text/html": [
       "<div>\n",
       "<style scoped>\n",
       "    .dataframe tbody tr th:only-of-type {\n",
       "        vertical-align: middle;\n",
       "    }\n",
       "\n",
       "    .dataframe tbody tr th {\n",
       "        vertical-align: top;\n",
       "    }\n",
       "\n",
       "    .dataframe thead th {\n",
       "        text-align: right;\n",
       "    }\n",
       "</style>\n",
       "<table border=\"1\" class=\"dataframe\">\n",
       "  <thead>\n",
       "    <tr style=\"text-align: right;\">\n",
       "      <th></th>\n",
       "      <th>city</th>\n",
       "      <th>driver_count</th>\n",
       "      <th>type</th>\n",
       "    </tr>\n",
       "  </thead>\n",
       "  <tbody>\n",
       "    <tr>\n",
       "      <th>0</th>\n",
       "      <td>Richardfort</td>\n",
       "      <td>38</td>\n",
       "      <td>Urban</td>\n",
       "    </tr>\n",
       "    <tr>\n",
       "      <th>1</th>\n",
       "      <td>Williamsstad</td>\n",
       "      <td>59</td>\n",
       "      <td>Urban</td>\n",
       "    </tr>\n",
       "    <tr>\n",
       "      <th>2</th>\n",
       "      <td>Port Angela</td>\n",
       "      <td>67</td>\n",
       "      <td>Urban</td>\n",
       "    </tr>\n",
       "    <tr>\n",
       "      <th>3</th>\n",
       "      <td>Rodneyfort</td>\n",
       "      <td>34</td>\n",
       "      <td>Urban</td>\n",
       "    </tr>\n",
       "    <tr>\n",
       "      <th>4</th>\n",
       "      <td>West Robert</td>\n",
       "      <td>39</td>\n",
       "      <td>Urban</td>\n",
       "    </tr>\n",
       "  </tbody>\n",
       "</table>\n",
       "</div>"
      ],
      "text/plain": [
       "           city  driver_count   type\n",
       "0   Richardfort            38  Urban\n",
       "1  Williamsstad            59  Urban\n",
       "2   Port Angela            67  Urban\n",
       "3    Rodneyfort            34  Urban\n",
       "4   West Robert            39  Urban"
      ]
     },
     "execution_count": 696,
     "metadata": {},
     "output_type": "execute_result"
    }
   ],
   "source": [
    "#read the csv file as data frame lets do city data first\n",
    "city_data_df = pd.read_csv(city_data_to_load)\n",
    "city_data_df.head()"
   ]
  },
  {
   "cell_type": "code",
   "execution_count": 697,
   "metadata": {},
   "outputs": [
    {
     "data": {
      "text/html": [
       "<div>\n",
       "<style scoped>\n",
       "    .dataframe tbody tr th:only-of-type {\n",
       "        vertical-align: middle;\n",
       "    }\n",
       "\n",
       "    .dataframe tbody tr th {\n",
       "        vertical-align: top;\n",
       "    }\n",
       "\n",
       "    .dataframe thead th {\n",
       "        text-align: right;\n",
       "    }\n",
       "</style>\n",
       "<table border=\"1\" class=\"dataframe\">\n",
       "  <thead>\n",
       "    <tr style=\"text-align: right;\">\n",
       "      <th></th>\n",
       "      <th>city</th>\n",
       "      <th>date</th>\n",
       "      <th>fare</th>\n",
       "      <th>ride_id</th>\n",
       "    </tr>\n",
       "  </thead>\n",
       "  <tbody>\n",
       "    <tr>\n",
       "      <th>0</th>\n",
       "      <td>Lake Jonathanshire</td>\n",
       "      <td>2019-01-14 10:14:22</td>\n",
       "      <td>13.83</td>\n",
       "      <td>5739410935873</td>\n",
       "    </tr>\n",
       "    <tr>\n",
       "      <th>1</th>\n",
       "      <td>South Michelleport</td>\n",
       "      <td>2019-03-04 18:24:09</td>\n",
       "      <td>30.24</td>\n",
       "      <td>2343912425577</td>\n",
       "    </tr>\n",
       "    <tr>\n",
       "      <th>2</th>\n",
       "      <td>Port Samanthamouth</td>\n",
       "      <td>2019-02-24 04:29:00</td>\n",
       "      <td>33.44</td>\n",
       "      <td>2005065760003</td>\n",
       "    </tr>\n",
       "    <tr>\n",
       "      <th>3</th>\n",
       "      <td>Rodneyfort</td>\n",
       "      <td>2019-02-10 23:22:03</td>\n",
       "      <td>23.44</td>\n",
       "      <td>5149245426178</td>\n",
       "    </tr>\n",
       "    <tr>\n",
       "      <th>4</th>\n",
       "      <td>South Jack</td>\n",
       "      <td>2019-03-06 04:28:35</td>\n",
       "      <td>34.58</td>\n",
       "      <td>3908451377344</td>\n",
       "    </tr>\n",
       "  </tbody>\n",
       "</table>\n",
       "</div>"
      ],
      "text/plain": [
       "                 city                 date   fare        ride_id\n",
       "0  Lake Jonathanshire  2019-01-14 10:14:22  13.83  5739410935873\n",
       "1  South Michelleport  2019-03-04 18:24:09  30.24  2343912425577\n",
       "2  Port Samanthamouth  2019-02-24 04:29:00  33.44  2005065760003\n",
       "3          Rodneyfort  2019-02-10 23:22:03  23.44  5149245426178\n",
       "4          South Jack  2019-03-06 04:28:35  34.58  3908451377344"
      ]
     },
     "execution_count": 697,
     "metadata": {},
     "output_type": "execute_result"
    }
   ],
   "source": [
    "#read ride data from csv file to dataframe\n",
    "ride_data_df = pd.read_csv(ride_data_to_load)\n",
    "ride_data_df.head()"
   ]
  },
  {
   "cell_type": "code",
   "execution_count": 698,
   "metadata": {},
   "outputs": [
    {
     "data": {
      "text/plain": [
       "city            120\n",
       "driver_count    120\n",
       "type            120\n",
       "dtype: int64"
      ]
     },
     "execution_count": 698,
     "metadata": {},
     "output_type": "execute_result"
    }
   ],
   "source": [
    "#get the columns and rows that are not null in city data\n",
    "city_data_df.count()"
   ]
  },
  {
   "cell_type": "code",
   "execution_count": 699,
   "metadata": {},
   "outputs": [
    {
     "data": {
      "text/plain": [
       "city            0\n",
       "driver_count    0\n",
       "type            0\n",
       "dtype: int64"
      ]
     },
     "execution_count": 699,
     "metadata": {},
     "output_type": "execute_result"
    }
   ],
   "source": [
    "#get the columns and rows that are null in city data\n",
    "city_data_df.isnull().sum()"
   ]
  },
  {
   "cell_type": "code",
   "execution_count": 700,
   "metadata": {},
   "outputs": [
    {
     "data": {
      "text/plain": [
       "city            object\n",
       "driver_count     int64\n",
       "type            object\n",
       "dtype: object"
      ]
     },
     "execution_count": 700,
     "metadata": {},
     "output_type": "execute_result"
    }
   ],
   "source": [
    "# Get the data types of each column.\n",
    "city_data_df.dtypes"
   ]
  },
  {
   "cell_type": "code",
   "execution_count": 701,
   "metadata": {},
   "outputs": [
    {
     "data": {
      "text/plain": [
       "city       0\n",
       "date       0\n",
       "fare       0\n",
       "ride_id    0\n",
       "dtype: int64"
      ]
     },
     "execution_count": 701,
     "metadata": {},
     "output_type": "execute_result"
    }
   ],
   "source": [
    "#get the columns and rows that are null in ride data\n",
    "ride_data_df.isnull().sum()"
   ]
  },
  {
   "cell_type": "code",
   "execution_count": 702,
   "metadata": {},
   "outputs": [
    {
     "data": {
      "text/plain": [
       "array(['Urban', 'Suburban', 'Rural'], dtype=object)"
      ]
     },
     "execution_count": 702,
     "metadata": {},
     "output_type": "execute_result"
    }
   ],
   "source": [
    "#get unique city types\n",
    "city_data_df[\"type\"].unique()"
   ]
  },
  {
   "cell_type": "code",
   "execution_count": 703,
   "metadata": {},
   "outputs": [
    {
     "data": {
      "text/plain": [
       "66"
      ]
     },
     "execution_count": 703,
     "metadata": {},
     "output_type": "execute_result"
    }
   ],
   "source": [
    "#get the number of data points for Urban\n",
    "sum(city_data_df[\"type\"] == 'Urban')"
   ]
  },
  {
   "cell_type": "code",
   "execution_count": 704,
   "metadata": {},
   "outputs": [
    {
     "data": {
      "text/plain": [
       "{'Urban': 66, 'Suburban': 36, 'Rural': 18}"
      ]
     },
     "execution_count": 704,
     "metadata": {},
     "output_type": "execute_result"
    }
   ],
   "source": [
    "types_of_cities = city_data_df[\"type\"].unique()\n",
    "city_sum = {}\n",
    "for city_type in types_of_cities:\n",
    "    city_sum[city_type] = sum(city_data_df[\"type\"] == city_type)\n",
    "city_sum"
   ]
  },
  {
   "cell_type": "code",
   "execution_count": 705,
   "metadata": {},
   "outputs": [
    {
     "data": {
      "text/plain": [
       "city        object\n",
       "date        object\n",
       "fare       float64\n",
       "ride_id      int64\n",
       "dtype: object"
      ]
     },
     "execution_count": 705,
     "metadata": {},
     "output_type": "execute_result"
    }
   ],
   "source": [
    "# Get the data types of each column.\n",
    "ride_data_df.dtypes"
   ]
  },
  {
   "cell_type": "code",
   "execution_count": 706,
   "metadata": {},
   "outputs": [
    {
     "data": {
      "text/html": [
       "<div>\n",
       "<style scoped>\n",
       "    .dataframe tbody tr th:only-of-type {\n",
       "        vertical-align: middle;\n",
       "    }\n",
       "\n",
       "    .dataframe tbody tr th {\n",
       "        vertical-align: top;\n",
       "    }\n",
       "\n",
       "    .dataframe thead th {\n",
       "        text-align: right;\n",
       "    }\n",
       "</style>\n",
       "<table border=\"1\" class=\"dataframe\">\n",
       "  <thead>\n",
       "    <tr style=\"text-align: right;\">\n",
       "      <th></th>\n",
       "      <th>city</th>\n",
       "      <th>date</th>\n",
       "      <th>fare</th>\n",
       "      <th>ride_id</th>\n",
       "      <th>driver_count</th>\n",
       "      <th>type</th>\n",
       "    </tr>\n",
       "  </thead>\n",
       "  <tbody>\n",
       "    <tr>\n",
       "      <th>0</th>\n",
       "      <td>Lake Jonathanshire</td>\n",
       "      <td>2019-01-14 10:14:22</td>\n",
       "      <td>13.83</td>\n",
       "      <td>5739410935873</td>\n",
       "      <td>5</td>\n",
       "      <td>Urban</td>\n",
       "    </tr>\n",
       "    <tr>\n",
       "      <th>1</th>\n",
       "      <td>South Michelleport</td>\n",
       "      <td>2019-03-04 18:24:09</td>\n",
       "      <td>30.24</td>\n",
       "      <td>2343912425577</td>\n",
       "      <td>72</td>\n",
       "      <td>Urban</td>\n",
       "    </tr>\n",
       "    <tr>\n",
       "      <th>2</th>\n",
       "      <td>Port Samanthamouth</td>\n",
       "      <td>2019-02-24 04:29:00</td>\n",
       "      <td>33.44</td>\n",
       "      <td>2005065760003</td>\n",
       "      <td>57</td>\n",
       "      <td>Urban</td>\n",
       "    </tr>\n",
       "    <tr>\n",
       "      <th>3</th>\n",
       "      <td>Rodneyfort</td>\n",
       "      <td>2019-02-10 23:22:03</td>\n",
       "      <td>23.44</td>\n",
       "      <td>5149245426178</td>\n",
       "      <td>34</td>\n",
       "      <td>Urban</td>\n",
       "    </tr>\n",
       "    <tr>\n",
       "      <th>4</th>\n",
       "      <td>South Jack</td>\n",
       "      <td>2019-03-06 04:28:35</td>\n",
       "      <td>34.58</td>\n",
       "      <td>3908451377344</td>\n",
       "      <td>46</td>\n",
       "      <td>Urban</td>\n",
       "    </tr>\n",
       "  </tbody>\n",
       "</table>\n",
       "</div>"
      ],
      "text/plain": [
       "                 city                 date   fare        ride_id  \\\n",
       "0  Lake Jonathanshire  2019-01-14 10:14:22  13.83  5739410935873   \n",
       "1  South Michelleport  2019-03-04 18:24:09  30.24  2343912425577   \n",
       "2  Port Samanthamouth  2019-02-24 04:29:00  33.44  2005065760003   \n",
       "3          Rodneyfort  2019-02-10 23:22:03  23.44  5149245426178   \n",
       "4          South Jack  2019-03-06 04:28:35  34.58  3908451377344   \n",
       "\n",
       "   driver_count   type  \n",
       "0             5  Urban  \n",
       "1            72  Urban  \n",
       "2            57  Urban  \n",
       "3            34  Urban  \n",
       "4            46  Urban  "
      ]
     },
     "execution_count": 706,
     "metadata": {},
     "output_type": "execute_result"
    }
   ],
   "source": [
    "#merge ride and city data to get a consolidated view\n",
    "pyber_data_df = pd.merge(ride_data_df, city_data_df, how=\"left\", on =[\"city\"])\n",
    "\n",
    "#display the dataframe\n",
    "pyber_data_df.head()"
   ]
  },
  {
   "cell_type": "code",
   "execution_count": 707,
   "metadata": {},
   "outputs": [
    {
     "data": {
      "text/html": [
       "<div>\n",
       "<style scoped>\n",
       "    .dataframe tbody tr th:only-of-type {\n",
       "        vertical-align: middle;\n",
       "    }\n",
       "\n",
       "    .dataframe tbody tr th {\n",
       "        vertical-align: top;\n",
       "    }\n",
       "\n",
       "    .dataframe thead th {\n",
       "        text-align: right;\n",
       "    }\n",
       "</style>\n",
       "<table border=\"1\" class=\"dataframe\">\n",
       "  <thead>\n",
       "    <tr style=\"text-align: right;\">\n",
       "      <th></th>\n",
       "      <th>city</th>\n",
       "      <th>date</th>\n",
       "      <th>fare</th>\n",
       "      <th>ride_id</th>\n",
       "      <th>driver_count</th>\n",
       "      <th>type</th>\n",
       "    </tr>\n",
       "  </thead>\n",
       "  <tbody>\n",
       "    <tr>\n",
       "      <th>0</th>\n",
       "      <td>Lake Jonathanshire</td>\n",
       "      <td>2019-01-14 10:14:22</td>\n",
       "      <td>13.83</td>\n",
       "      <td>5739410935873</td>\n",
       "      <td>5</td>\n",
       "      <td>Urban</td>\n",
       "    </tr>\n",
       "    <tr>\n",
       "      <th>1</th>\n",
       "      <td>South Michelleport</td>\n",
       "      <td>2019-03-04 18:24:09</td>\n",
       "      <td>30.24</td>\n",
       "      <td>2343912425577</td>\n",
       "      <td>72</td>\n",
       "      <td>Urban</td>\n",
       "    </tr>\n",
       "    <tr>\n",
       "      <th>2</th>\n",
       "      <td>Port Samanthamouth</td>\n",
       "      <td>2019-02-24 04:29:00</td>\n",
       "      <td>33.44</td>\n",
       "      <td>2005065760003</td>\n",
       "      <td>57</td>\n",
       "      <td>Urban</td>\n",
       "    </tr>\n",
       "    <tr>\n",
       "      <th>3</th>\n",
       "      <td>Rodneyfort</td>\n",
       "      <td>2019-02-10 23:22:03</td>\n",
       "      <td>23.44</td>\n",
       "      <td>5149245426178</td>\n",
       "      <td>34</td>\n",
       "      <td>Urban</td>\n",
       "    </tr>\n",
       "    <tr>\n",
       "      <th>4</th>\n",
       "      <td>South Jack</td>\n",
       "      <td>2019-03-06 04:28:35</td>\n",
       "      <td>34.58</td>\n",
       "      <td>3908451377344</td>\n",
       "      <td>46</td>\n",
       "      <td>Urban</td>\n",
       "    </tr>\n",
       "  </tbody>\n",
       "</table>\n",
       "</div>"
      ],
      "text/plain": [
       "                 city                 date   fare        ride_id  \\\n",
       "0  Lake Jonathanshire  2019-01-14 10:14:22  13.83  5739410935873   \n",
       "1  South Michelleport  2019-03-04 18:24:09  30.24  2343912425577   \n",
       "2  Port Samanthamouth  2019-02-24 04:29:00  33.44  2005065760003   \n",
       "3          Rodneyfort  2019-02-10 23:22:03  23.44  5149245426178   \n",
       "4          South Jack  2019-03-06 04:28:35  34.58  3908451377344   \n",
       "\n",
       "   driver_count   type  \n",
       "0             5  Urban  \n",
       "1            72  Urban  \n",
       "2            57  Urban  \n",
       "3            34  Urban  \n",
       "4            46  Urban  "
      ]
     },
     "execution_count": 707,
     "metadata": {},
     "output_type": "execute_result"
    }
   ],
   "source": [
    "#create a dataframe for urban cities\n",
    "urban_cities_df = pyber_data_df[pyber_data_df[\"type\"] == \"Urban\"]\n",
    "urban_cities_df.head()"
   ]
  },
  {
   "cell_type": "code",
   "execution_count": 708,
   "metadata": {},
   "outputs": [
    {
     "data": {
      "text/html": [
       "<div>\n",
       "<style scoped>\n",
       "    .dataframe tbody tr th:only-of-type {\n",
       "        vertical-align: middle;\n",
       "    }\n",
       "\n",
       "    .dataframe tbody tr th {\n",
       "        vertical-align: top;\n",
       "    }\n",
       "\n",
       "    .dataframe thead th {\n",
       "        text-align: right;\n",
       "    }\n",
       "</style>\n",
       "<table border=\"1\" class=\"dataframe\">\n",
       "  <thead>\n",
       "    <tr style=\"text-align: right;\">\n",
       "      <th></th>\n",
       "      <th>city</th>\n",
       "      <th>date</th>\n",
       "      <th>fare</th>\n",
       "      <th>ride_id</th>\n",
       "      <th>driver_count</th>\n",
       "      <th>type</th>\n",
       "    </tr>\n",
       "  </thead>\n",
       "  <tbody>\n",
       "    <tr>\n",
       "      <th>2250</th>\n",
       "      <td>Randallchester</td>\n",
       "      <td>2019-04-13 11:13:31</td>\n",
       "      <td>43.22</td>\n",
       "      <td>1076079536213</td>\n",
       "      <td>9</td>\n",
       "      <td>Rural</td>\n",
       "    </tr>\n",
       "  </tbody>\n",
       "</table>\n",
       "</div>"
      ],
      "text/plain": [
       "                city                 date   fare        ride_id  driver_count  \\\n",
       "2250  Randallchester  2019-04-13 11:13:31  43.22  1076079536213             9   \n",
       "\n",
       "       type  \n",
       "2250  Rural  "
      ]
     },
     "execution_count": 708,
     "metadata": {},
     "output_type": "execute_result"
    }
   ],
   "source": [
    "#create a dataframe for suburban and rural cities\n",
    "suburban_cities_df = pyber_data_df[pyber_data_df[\"type\"] == \"Suburban\"]\n",
    "rural_cities_df = pyber_data_df[pyber_data_df[\"type\"] == \"Rural\"]\n",
    "rural_cities_df.head(1)"
   ]
  },
  {
   "cell_type": "code",
   "execution_count": 709,
   "metadata": {},
   "outputs": [
    {
     "data": {
      "text/plain": [
       "city\n",
       "Amandaburgh        18\n",
       "Barajasview        22\n",
       "Carriemouth        27\n",
       "Christopherfurt    27\n",
       "Deanville          19\n",
       "Name: ride_id, dtype: int64"
      ]
     },
     "execution_count": 709,
     "metadata": {},
     "output_type": "execute_result"
    }
   ],
   "source": [
    "#Get the number of rides for urban cities\n",
    "urban_ride_count = urban_cities_df.groupby([\"city\"]).count()[\"ride_id\"]\n",
    "urban_ride_count.head()"
   ]
  },
  {
   "cell_type": "code",
   "execution_count": 710,
   "metadata": {},
   "outputs": [
    {
     "data": {
      "text/plain": [
       "city\n",
       "Bradshawfurt      10\n",
       "Garzaport          3\n",
       "Harringtonfort     6\n",
       "Jessicaport        6\n",
       "Lake Jamie         6\n",
       "Name: ride_id, dtype: int64"
      ]
     },
     "execution_count": 710,
     "metadata": {},
     "output_type": "execute_result"
    }
   ],
   "source": [
    "#Get the number of rides for suburban and rural cities\n",
    "suburban_ride_count = suburban_cities_df.groupby([\"city\"]).count()[\"ride_id\"]\n",
    "rural_ride_count = rural_cities_df.groupby([\"city\"]).count()[\"ride_id\"]\n",
    "rural_ride_count.head()"
   ]
  },
  {
   "cell_type": "code",
   "execution_count": 711,
   "metadata": {},
   "outputs": [
    {
     "data": {
      "text/plain": [
       "city\n",
       "Amandaburgh        24.641667\n",
       "Barajasview        25.332273\n",
       "Carriemouth        28.314444\n",
       "Christopherfurt    24.501852\n",
       "Deanville          25.842632\n",
       "Name: fare, dtype: float64"
      ]
     },
     "execution_count": 711,
     "metadata": {},
     "output_type": "execute_result"
    }
   ],
   "source": [
    "#get the average fare for each urban cities\n",
    "urban_avg_fare = urban_cities_df.groupby([\"city\"]).mean()[\"fare\"]\n",
    "urban_avg_fare.head()\n"
   ]
  },
  {
   "cell_type": "code",
   "execution_count": 712,
   "metadata": {},
   "outputs": [],
   "source": [
    "#get the average fare for each suburban and rural cities\n",
    "suburban_avg_fare = suburban_cities_df.groupby([\"city\"]).mean()[\"fare\"]\n",
    "rural_avg_fare = rural_cities_df.groupby([\"city\"]).mean()[\"fare\"]"
   ]
  },
  {
   "cell_type": "code",
   "execution_count": 713,
   "metadata": {},
   "outputs": [
    {
     "data": {
      "text/plain": [
       "city\n",
       "Amandaburgh        12.0\n",
       "Barajasview        26.0\n",
       "Carriemouth        52.0\n",
       "Christopherfurt    41.0\n",
       "Deanville          49.0\n",
       "Name: driver_count, dtype: float64"
      ]
     },
     "execution_count": 713,
     "metadata": {},
     "output_type": "execute_result"
    }
   ],
   "source": [
    "#get the average number of drivers for each urban cities\n",
    "urban_driver_count = urban_cities_df.groupby([\"city\"]).mean()[\"driver_count\"]\n",
    "urban_driver_count.head()"
   ]
  },
  {
   "cell_type": "code",
   "execution_count": 714,
   "metadata": {},
   "outputs": [],
   "source": [
    "#get the average number of drivers for each suburban and rural cities\n",
    "suburban_driver_count = suburban_cities_df.groupby([\"city\"]).mean()[\"driver_count\"]\n",
    "rural_driver_count = rural_cities_df.groupby([\"city\"]).mean()[\"driver_count\"]\n"
   ]
  },
  {
   "cell_type": "code",
   "execution_count": 715,
   "metadata": {},
   "outputs": [
    {
     "data": {
      "text/plain": [
       "<matplotlib.legend.Legend at 0x1a27baa3c8>"
      ]
     },
     "execution_count": 715,
     "metadata": {},
     "output_type": "execute_result"
    },
    {
     "data": {
      "image/png": "[encoded data removed]",
      "text/plain": [
       "<Figure size 432x288 with 1 Axes>"
      ]
     },
     "metadata": {
      "needs_background": "light"
     },
     "output_type": "display_data"
    }
   ],
   "source": [
    "# Build the scatter plots for urban cities.\n",
    "plt.scatter(urban_ride_count, urban_avg_fare, s=10*urban_driver_count, \n",
    "            c=\"coral\", edgecolor=\"black\", linewidths=1, alpha=0.8, label=\"Urban\")\n",
    "plt.ylabel(\"Average Fare ($)\")\n",
    "plt.xlabel(\"Total Number of Rides (Per City)\")\n",
    "plt.title(\"PyBer Ride-Sharing Data (2019)\")\n",
    "plt.grid(True)\n",
    "plt.legend()"
   ]
  },
  {
   "cell_type": "code",
   "execution_count": 716,
   "metadata": {},
   "outputs": [
    {
     "data": {
      "text/plain": [
       "<matplotlib.legend.Legend at 0x1a278b7400>"
      ]
     },
     "execution_count": 716,
     "metadata": {},
     "output_type": "execute_result"
    },
    {
     "data": {
      "image/png": "[encoded data removed]",
      "text/plain": [
       "<Figure size 432x288 with 1 Axes>"
      ]
     },
     "metadata": {
      "needs_background": "light"
     },
     "output_type": "display_data"
    }
   ],
   "source": [
    "# Build the scatter plots for suburban cities.\n",
    "plt.scatter(suburban_ride_count, suburban_avg_fare, s=10*suburban_driver_count,\n",
    "           c=\"skyblue\", edgecolor=\"black\", linewidths=1, alpha=0.8, label=\"Suburban\")\n",
    "plt.ylabel(\"Average Fare ($)\")\n",
    "plt.xlabel(\"Total Number of Rides (Per City)\")\n",
    "plt.title(\"PyBer Ride-Sharing Data (2019)\")\n",
    "plt.grid(True)\n",
    "plt.legend()"
   ]
  },
  {
   "cell_type": "code",
   "execution_count": 717,
   "metadata": {},
   "outputs": [
    {
     "data": {
      "text/plain": [
       "<matplotlib.legend.Legend at 0x1a27785b00>"
      ]
     },
     "execution_count": 717,
     "metadata": {},
     "output_type": "execute_result"
    },
    {
     "data": {
      "image/png": "[encoded data removed]",
      "text/plain": [
       "<Figure size 432x288 with 1 Axes>"
      ]
     },
     "metadata": {
      "needs_background": "light"
     },
     "output_type": "display_data"
    }
   ],
   "source": [
    "# Build the scatter plots for Rural cities.\n",
    "plt.scatter(rural_ride_count, rural_avg_fare, s=10*rural_driver_count,\n",
    "           c=\"gold\", edgecolor=\"black\", linewidths=1, alpha=0.8, label=\"Rural\")\n",
    "plt.ylabel(\"Average Fare ($)\")\n",
    "plt.xlabel(\"Total Number of Rides (Per City)\")\n",
    "plt.title(\"PyBer Ride-Sharing Data (2019)\")\n",
    "plt.grid(True)\n",
    "\n",
    "plt.legend()"
   ]
  },
  {
   "cell_type": "code",
   "execution_count": 718,
   "metadata": {
    "scrolled": true
   },
   "outputs": [
    {
     "data": {
      "image/png": "[encoded data removed]",
      "text/plain": [
       "<Figure size 720x432 with 1 Axes>"
      ]
     },
     "metadata": {
      "needs_background": "light"
     },
     "output_type": "display_data"
    }
   ],
   "source": [
    "#Add all the scattered charts for each type of city\n",
    "plt.subplots(figsize=(10,6))\n",
    "plt.scatter(urban_ride_count, urban_avg_fare, s=10*urban_driver_count, \n",
    "            c=\"coral\", edgecolor=\"black\", linewidths=1, alpha=0.8, label=\"Urban\")\n",
    "\n",
    "plt.scatter(suburban_ride_count, suburban_avg_fare, s=10*suburban_driver_count,\n",
    "           c=\"skyblue\", edgecolor=\"black\", linewidths=1, alpha=0.8, label=\"Suburban\")\n",
    "\n",
    "\n",
    "plt.scatter(rural_ride_count, rural_avg_fare, s=10*rural_driver_count,\n",
    "           c=\"gold\", edgecolor=\"black\", linewidths=1, alpha=0.8, label=\"Rural\")\n",
    "\n",
    "\n",
    "#add the headers and labels with legends\n",
    "plt.ylabel(\"Average Fare ($)\", fontsize=12)\n",
    "plt.xlabel(\"Total Number of Rides (Per City)\", fontsize=12)\n",
    "plt.title(\"PyBer Ride-Sharing Data (2019)\", fontsize=20)\n",
    "plt.grid(True)\n",
    "\n",
    "\n",
    "#Add the legend\n",
    "plt.legend()\n",
    "\n",
    "#create a legend\n",
    "lgnd = plt.legend(fontsize=\"12\", mode=\"Expanded\",\n",
    "                 scatterpoints=1, loc=\"best\", title=\"City Types\")\n",
    "lgnd.legendHandles[0]._sizes = [75]\n",
    "lgnd.legendHandles[1]._sizes = [75]\n",
    "lgnd.legendHandles[2]._sizes = [75]\n",
    "\n",
    "lgnd.get_title().set_fontsize(12)\n",
    "\n",
    "plt.text(42, 35, \"Note:\\nCircle size correlates\\nwith driver count per city.\", fontsize=\"12\")\n",
    "\n",
    "#set the layout to be tight\n",
    "plt.tight_layout()\n",
    "# Save the figure.\n",
    "plt.savefig(\"analysis/Fig1.png\")\n",
    "\n",
    "#show the plot\n",
    "plt.show()\n"
   ]
  },
  {
   "cell_type": "code",
   "execution_count": 719,
   "metadata": {},
   "outputs": [
    {
     "data": {
      "text/html": [
       "<div>\n",
       "<style scoped>\n",
       "    .dataframe tbody tr th:only-of-type {\n",
       "        vertical-align: middle;\n",
       "    }\n",
       "\n",
       "    .dataframe tbody tr th {\n",
       "        vertical-align: top;\n",
       "    }\n",
       "\n",
       "    .dataframe thead th {\n",
       "        text-align: right;\n",
       "    }\n",
       "</style>\n",
       "<table border=\"1\" class=\"dataframe\">\n",
       "  <thead>\n",
       "    <tr style=\"text-align: right;\">\n",
       "      <th></th>\n",
       "      <th>fare</th>\n",
       "      <th>ride_id</th>\n",
       "      <th>driver_count</th>\n",
       "    </tr>\n",
       "  </thead>\n",
       "  <tbody>\n",
       "    <tr>\n",
       "      <th>count</th>\n",
       "      <td>1625.000000</td>\n",
       "      <td>1.625000e+03</td>\n",
       "      <td>1625.000000</td>\n",
       "    </tr>\n",
       "    <tr>\n",
       "      <th>mean</th>\n",
       "      <td>24.525772</td>\n",
       "      <td>4.873485e+12</td>\n",
       "      <td>36.678154</td>\n",
       "    </tr>\n",
       "    <tr>\n",
       "      <th>std</th>\n",
       "      <td>11.738649</td>\n",
       "      <td>2.907440e+12</td>\n",
       "      <td>20.075545</td>\n",
       "    </tr>\n",
       "    <tr>\n",
       "      <th>min</th>\n",
       "      <td>4.050000</td>\n",
       "      <td>1.458810e+10</td>\n",
       "      <td>3.000000</td>\n",
       "    </tr>\n",
       "    <tr>\n",
       "      <th>25%</th>\n",
       "      <td>14.550000</td>\n",
       "      <td>2.400244e+12</td>\n",
       "      <td>22.000000</td>\n",
       "    </tr>\n",
       "    <tr>\n",
       "      <th>50%</th>\n",
       "      <td>24.640000</td>\n",
       "      <td>4.711188e+12</td>\n",
       "      <td>37.000000</td>\n",
       "    </tr>\n",
       "    <tr>\n",
       "      <th>75%</th>\n",
       "      <td>34.580000</td>\n",
       "      <td>7.451579e+12</td>\n",
       "      <td>52.000000</td>\n",
       "    </tr>\n",
       "    <tr>\n",
       "      <th>max</th>\n",
       "      <td>44.970000</td>\n",
       "      <td>9.991538e+12</td>\n",
       "      <td>73.000000</td>\n",
       "    </tr>\n",
       "  </tbody>\n",
       "</table>\n",
       "</div>"
      ],
      "text/plain": [
       "              fare       ride_id  driver_count\n",
       "count  1625.000000  1.625000e+03   1625.000000\n",
       "mean     24.525772  4.873485e+12     36.678154\n",
       "std      11.738649  2.907440e+12     20.075545\n",
       "min       4.050000  1.458810e+10      3.000000\n",
       "25%      14.550000  2.400244e+12     22.000000\n",
       "50%      24.640000  4.711188e+12     37.000000\n",
       "75%      34.580000  7.451579e+12     52.000000\n",
       "max      44.970000  9.991538e+12     73.000000"
      ]
     },
     "execution_count": 719,
     "metadata": {},
     "output_type": "execute_result"
    }
   ],
   "source": [
    "#get the summary statistics\n",
    "urban_cities_df.describe()"
   ]
  },
  {
   "cell_type": "code",
   "execution_count": 720,
   "metadata": {},
   "outputs": [
    {
     "data": {
      "text/html": [
       "<div>\n",
       "<style scoped>\n",
       "    .dataframe tbody tr th:only-of-type {\n",
       "        vertical-align: middle;\n",
       "    }\n",
       "\n",
       "    .dataframe tbody tr th {\n",
       "        vertical-align: top;\n",
       "    }\n",
       "\n",
       "    .dataframe thead th {\n",
       "        text-align: right;\n",
       "    }\n",
       "</style>\n",
       "<table border=\"1\" class=\"dataframe\">\n",
       "  <thead>\n",
       "    <tr style=\"text-align: right;\">\n",
       "      <th></th>\n",
       "      <th>fare</th>\n",
       "      <th>ride_id</th>\n",
       "      <th>driver_count</th>\n",
       "    </tr>\n",
       "  </thead>\n",
       "  <tbody>\n",
       "    <tr>\n",
       "      <th>count</th>\n",
       "      <td>625.000000</td>\n",
       "      <td>6.250000e+02</td>\n",
       "      <td>625.000000</td>\n",
       "    </tr>\n",
       "    <tr>\n",
       "      <th>mean</th>\n",
       "      <td>30.970128</td>\n",
       "      <td>4.971015e+12</td>\n",
       "      <td>13.712000</td>\n",
       "    </tr>\n",
       "    <tr>\n",
       "      <th>std</th>\n",
       "      <td>10.677508</td>\n",
       "      <td>2.912410e+12</td>\n",
       "      <td>8.042372</td>\n",
       "    </tr>\n",
       "    <tr>\n",
       "      <th>min</th>\n",
       "      <td>12.050000</td>\n",
       "      <td>3.218337e+08</td>\n",
       "      <td>1.000000</td>\n",
       "    </tr>\n",
       "    <tr>\n",
       "      <th>25%</th>\n",
       "      <td>21.970000</td>\n",
       "      <td>2.364253e+12</td>\n",
       "      <td>5.000000</td>\n",
       "    </tr>\n",
       "    <tr>\n",
       "      <th>50%</th>\n",
       "      <td>30.750000</td>\n",
       "      <td>5.053221e+12</td>\n",
       "      <td>16.000000</td>\n",
       "    </tr>\n",
       "    <tr>\n",
       "      <th>75%</th>\n",
       "      <td>39.830000</td>\n",
       "      <td>7.551674e+12</td>\n",
       "      <td>21.000000</td>\n",
       "    </tr>\n",
       "    <tr>\n",
       "      <th>max</th>\n",
       "      <td>49.960000</td>\n",
       "      <td>9.917744e+12</td>\n",
       "      <td>25.000000</td>\n",
       "    </tr>\n",
       "  </tbody>\n",
       "</table>\n",
       "</div>"
      ],
      "text/plain": [
       "             fare       ride_id  driver_count\n",
       "count  625.000000  6.250000e+02    625.000000\n",
       "mean    30.970128  4.971015e+12     13.712000\n",
       "std     10.677508  2.912410e+12      8.042372\n",
       "min     12.050000  3.218337e+08      1.000000\n",
       "25%     21.970000  2.364253e+12      5.000000\n",
       "50%     30.750000  5.053221e+12     16.000000\n",
       "75%     39.830000  7.551674e+12     21.000000\n",
       "max     49.960000  9.917744e+12     25.000000"
      ]
     },
     "execution_count": 720,
     "metadata": {},
     "output_type": "execute_result"
    }
   ],
   "source": [
    "suburban_cities_df.describe()"
   ]
  },
  {
   "cell_type": "code",
   "execution_count": 721,
   "metadata": {},
   "outputs": [
    {
     "data": {
      "text/html": [
       "<div>\n",
       "<style scoped>\n",
       "    .dataframe tbody tr th:only-of-type {\n",
       "        vertical-align: middle;\n",
       "    }\n",
       "\n",
       "    .dataframe tbody tr th {\n",
       "        vertical-align: top;\n",
       "    }\n",
       "\n",
       "    .dataframe thead th {\n",
       "        text-align: right;\n",
       "    }\n",
       "</style>\n",
       "<table border=\"1\" class=\"dataframe\">\n",
       "  <thead>\n",
       "    <tr style=\"text-align: right;\">\n",
       "      <th></th>\n",
       "      <th>fare</th>\n",
       "      <th>ride_id</th>\n",
       "      <th>driver_count</th>\n",
       "    </tr>\n",
       "  </thead>\n",
       "  <tbody>\n",
       "    <tr>\n",
       "      <th>count</th>\n",
       "      <td>125.000000</td>\n",
       "      <td>1.250000e+02</td>\n",
       "      <td>125.000000</td>\n",
       "    </tr>\n",
       "    <tr>\n",
       "      <th>mean</th>\n",
       "      <td>34.623440</td>\n",
       "      <td>4.647746e+12</td>\n",
       "      <td>4.296000</td>\n",
       "    </tr>\n",
       "    <tr>\n",
       "      <th>std</th>\n",
       "      <td>14.558046</td>\n",
       "      <td>2.887834e+12</td>\n",
       "      <td>2.691156</td>\n",
       "    </tr>\n",
       "    <tr>\n",
       "      <th>min</th>\n",
       "      <td>10.110000</td>\n",
       "      <td>2.684873e+10</td>\n",
       "      <td>1.000000</td>\n",
       "    </tr>\n",
       "    <tr>\n",
       "      <th>25%</th>\n",
       "      <td>19.900000</td>\n",
       "      <td>2.275364e+12</td>\n",
       "      <td>1.000000</td>\n",
       "    </tr>\n",
       "    <tr>\n",
       "      <th>50%</th>\n",
       "      <td>37.050000</td>\n",
       "      <td>4.023962e+12</td>\n",
       "      <td>4.000000</td>\n",
       "    </tr>\n",
       "    <tr>\n",
       "      <th>75%</th>\n",
       "      <td>47.070000</td>\n",
       "      <td>7.118047e+12</td>\n",
       "      <td>7.000000</td>\n",
       "    </tr>\n",
       "    <tr>\n",
       "      <th>max</th>\n",
       "      <td>58.550000</td>\n",
       "      <td>9.990581e+12</td>\n",
       "      <td>9.000000</td>\n",
       "    </tr>\n",
       "  </tbody>\n",
       "</table>\n",
       "</div>"
      ],
      "text/plain": [
       "             fare       ride_id  driver_count\n",
       "count  125.000000  1.250000e+02    125.000000\n",
       "mean    34.623440  4.647746e+12      4.296000\n",
       "std     14.558046  2.887834e+12      2.691156\n",
       "min     10.110000  2.684873e+10      1.000000\n",
       "25%     19.900000  2.275364e+12      1.000000\n",
       "50%     37.050000  4.023962e+12      4.000000\n",
       "75%     47.070000  7.118047e+12      7.000000\n",
       "max     58.550000  9.990581e+12      9.000000"
      ]
     },
     "execution_count": 721,
     "metadata": {},
     "output_type": "execute_result"
    }
   ],
   "source": [
    "rural_cities_df.describe()"
   ]
  },
  {
   "cell_type": "code",
   "execution_count": 722,
   "metadata": {},
   "outputs": [
    {
     "data": {
      "text/plain": [
       "count    66.000000\n",
       "mean     24.621212\n",
       "std       5.408726\n",
       "min      12.000000\n",
       "25%      21.000000\n",
       "50%      24.000000\n",
       "75%      28.000000\n",
       "max      39.000000\n",
       "Name: ride_id, dtype: float64"
      ]
     },
     "execution_count": 722,
     "metadata": {},
     "output_type": "execute_result"
    }
   ],
   "source": [
    "# Get summary statistics.\n",
    "urban_ride_count.describe()"
   ]
  },
  {
   "cell_type": "code",
   "execution_count": 723,
   "metadata": {},
   "outputs": [
    {
     "data": {
      "text/plain": [
       "count    36.000000\n",
       "mean     17.361111\n",
       "std       4.323707\n",
       "min       9.000000\n",
       "25%      14.000000\n",
       "50%      17.000000\n",
       "75%      19.250000\n",
       "max      27.000000\n",
       "Name: ride_id, dtype: float64"
      ]
     },
     "execution_count": 723,
     "metadata": {},
     "output_type": "execute_result"
    }
   ],
   "source": [
    "suburban_ride_count.describe()"
   ]
  },
  {
   "cell_type": "code",
   "execution_count": 724,
   "metadata": {},
   "outputs": [
    {
     "data": {
      "text/plain": [
       "count    18.000000\n",
       "mean      6.944444\n",
       "std       2.508157\n",
       "min       3.000000\n",
       "25%       5.250000\n",
       "50%       6.000000\n",
       "75%       8.750000\n",
       "max      12.000000\n",
       "Name: ride_id, dtype: float64"
      ]
     },
     "execution_count": 724,
     "metadata": {},
     "output_type": "execute_result"
    }
   ],
   "source": [
    "rural_ride_count.describe()"
   ]
  },
  {
   "cell_type": "code",
   "execution_count": 725,
   "metadata": {},
   "outputs": [
    {
     "data": {
      "text/plain": [
       "(24.62, 17.36, 6.94)"
      ]
     },
     "execution_count": 725,
     "metadata": {},
     "output_type": "execute_result"
    }
   ],
   "source": [
    "# Calculate the mean of the ride count for each city type.\n",
    "round(urban_ride_count.mean(),2), round(suburban_ride_count.mean(),2), round(rural_ride_count.mean(),2)"
   ]
  },
  {
   "cell_type": "code",
   "execution_count": 726,
   "metadata": {},
   "outputs": [
    {
     "data": {
      "text/plain": [
       "24.0"
      ]
     },
     "execution_count": 726,
     "metadata": {},
     "output_type": "execute_result"
    }
   ],
   "source": [
    "urban_ride_count.median()"
   ]
  },
  {
   "cell_type": "code",
   "execution_count": 727,
   "metadata": {},
   "outputs": [
    {
     "data": {
      "text/plain": [
       "0    22\n",
       "1    25\n",
       "dtype: int64"
      ]
     },
     "execution_count": 727,
     "metadata": {},
     "output_type": "execute_result"
    }
   ],
   "source": [
    "# Calculate the mode of the ride count for the urban cities.\n",
    "urban_ride_count.mode()"
   ]
  },
  {
   "cell_type": "code",
   "execution_count": 728,
   "metadata": {},
   "outputs": [
    {
     "data": {
      "text/plain": [
       "0    17\n",
       "dtype: int64"
      ]
     },
     "execution_count": 728,
     "metadata": {},
     "output_type": "execute_result"
    }
   ],
   "source": [
    "suburban_ride_count.mode()"
   ]
  },
  {
   "cell_type": "code",
   "execution_count": 729,
   "metadata": {},
   "outputs": [],
   "source": [
    "# Import NumPy and the stats module from SciPy.\n",
    "import numpy as np\n",
    "import scipy.stats as sts"
   ]
  },
  {
   "cell_type": "code",
   "execution_count": 730,
   "metadata": {},
   "outputs": [
    {
     "name": "stdout",
     "output_type": "stream",
     "text": [
      "The mean for the ride counts for urban trips is 24.62.\n",
      "The median for the ride counts for urban trips is 24.0.\n",
      "The mode for the ride counts for urban trips is ModeResult(mode=array([22]), count=array([7])).\n"
     ]
    }
   ],
   "source": [
    "#calculate the measures of central tendency for the ride count for the urban city\n",
    "mean_urban_ride_count = np.mean(urban_ride_count)\n",
    "print(f\"The mean for the ride counts for urban trips is {mean_urban_ride_count:.2f}.\")\n",
    "\n",
    "median_urban_ride_count =np.median(urban_ride_count)\n",
    "print(f\"The median for the ride counts for urban trips is {median_urban_ride_count}.\")\n",
    "\n",
    "mode_urban_ride_count =sts.mode(urban_ride_count)\n",
    "print(f\"The mode for the ride counts for urban trips is {mode_urban_ride_count}.\")"
   ]
  },
  {
   "cell_type": "code",
   "execution_count": 731,
   "metadata": {},
   "outputs": [
    {
     "name": "stdout",
     "output_type": "stream",
     "text": [
      "The mode for the ride counts for suburban trips is ModeResult(mode=array([17]), count=array([7])).\n"
     ]
    }
   ],
   "source": [
    "mode_suburban_ride_count =sts.mode(suburban_ride_count)\n",
    "print(f\"The mode for the ride counts for suburban trips is {mode_suburban_ride_count}.\")"
   ]
  },
  {
   "cell_type": "code",
   "execution_count": 732,
   "metadata": {},
   "outputs": [
    {
     "name": "stdout",
     "output_type": "stream",
     "text": [
      "The mode for the ride counts for rural trips is ModeResult(mode=array([6]), count=array([5])).\n"
     ]
    }
   ],
   "source": [
    "mode_rural_ride_count =sts.mode(rural_ride_count)\n",
    "print(f\"The mode for the ride counts for rural trips is {mode_rural_ride_count}.\")"
   ]
  },
  {
   "cell_type": "code",
   "execution_count": 733,
   "metadata": {},
   "outputs": [
    {
     "data": {
      "text/plain": [
       "0    13.83\n",
       "1    30.24\n",
       "2    33.44\n",
       "3    23.44\n",
       "4    34.58\n",
       "Name: fare, dtype: float64"
      ]
     },
     "execution_count": 733,
     "metadata": {},
     "output_type": "execute_result"
    }
   ],
   "source": [
    "#get teh fares for urban cities\n",
    "urban_fares = urban_cities_df[\"fare\"]\n",
    "urban_fares.head()"
   ]
  },
  {
   "cell_type": "code",
   "execution_count": 734,
   "metadata": {
    "scrolled": true
   },
   "outputs": [
    {
     "name": "stdout",
     "output_type": "stream",
     "text": [
      "The mean fare for urban trip is $24.53.\n",
      "The median fare for urban trip is $24.64\n",
      "The mode fare for urban trip is ModeResult(mode=array([22.86]), count=array([5]))\n"
     ]
    }
   ],
   "source": [
    "#calculate the measure of central tendency for the average fare for the urban cities\n",
    "mean_urban_fare = np.mean(urban_fares)\n",
    "print(f\"The mean fare for urban trip is ${mean_urban_fare:.2f}.\")\n",
    "\n",
    "median_urban_fare = np.median(urban_fares)\n",
    "print(f\"The median fare for urban trip is ${median_urban_fare:.2f}\")\n",
    "\n",
    "mode_urban_fare = sts.mode(urban_fares)\n",
    "print(f\"The mode fare for urban trip is {mode_urban_fare}\")"
   ]
  },
  {
   "cell_type": "code",
   "execution_count": 735,
   "metadata": {},
   "outputs": [],
   "source": [
    "#get the fares for suburban and rural cities\n",
    "suburban_fares = suburban_cities_df[\"fare\"]\n",
    "rural_fares = rural_cities_df[\"fare\"]"
   ]
  },
  {
   "cell_type": "code",
   "execution_count": 736,
   "metadata": {},
   "outputs": [
    {
     "name": "stdout",
     "output_type": "stream",
     "text": [
      "The mean fare for suburban trip is $30.97.\n",
      "The mean fare for rural trip is $34.62.\n"
     ]
    }
   ],
   "source": [
    "#average fare for suburan and rural cities\n",
    "mean_suburban_fare = np.mean(suburban_cities_df[\"fare\"])\n",
    "print(f\"The mean fare for suburban trip is ${mean_suburban_fare:.2f}.\")\n",
    "\n",
    "mean_rural_fare = np.mean(rural_cities_df[\"fare\"])\n",
    "print(f\"The mean fare for rural trip is ${mean_rural_fare:.2f}.\")"
   ]
  },
  {
   "cell_type": "code",
   "execution_count": 737,
   "metadata": {},
   "outputs": [
    {
     "data": {
      "text/plain": [
       "0     5\n",
       "1    72\n",
       "2    57\n",
       "3    34\n",
       "4    46\n",
       "Name: driver_count, dtype: int64"
      ]
     },
     "execution_count": 737,
     "metadata": {},
     "output_type": "execute_result"
    }
   ],
   "source": [
    "# Get the driver count data from the urban cities.\n",
    "urban_drivers = urban_cities_df['driver_count']\n",
    "urban_drivers.head()"
   ]
  },
  {
   "cell_type": "code",
   "execution_count": 738,
   "metadata": {},
   "outputs": [],
   "source": [
    "#get the driver count data for suburban and rural cities\n",
    "suburban_drivers = suburban_cities_df['driver_count']\n",
    "rural_drivers = rural_cities_df['driver_count']"
   ]
  },
  {
   "cell_type": "code",
   "execution_count": 739,
   "metadata": {},
   "outputs": [
    {
     "name": "stdout",
     "output_type": "stream",
     "text": [
      "The average drivers for urban city is 37.\n",
      "The median drivers for urban city is 37\n",
      "The mode drivers for urban city is ModeResult(mode=array([39]), count=array([86]))\n"
     ]
    }
   ],
   "source": [
    "#calculate the measure of central tendency for the average driver count for the urban cities\n",
    "mean_urban_drivers = np.mean(urban_drivers)\n",
    "print(f\"The average drivers for urban city is {mean_urban_drivers:.0f}.\")\n",
    "\n",
    "median_urban_drivers = np.median(urban_drivers)\n",
    "print(f\"The median drivers for urban city is {median_urban_drivers:.0f}\")\n",
    "\n",
    "mode_urban_drivers = sts.mode(urban_drivers)\n",
    "print(f\"The mode drivers for urban city is {mode_urban_drivers}\")"
   ]
  },
  {
   "cell_type": "code",
   "execution_count": 740,
   "metadata": {},
   "outputs": [
    {
     "name": "stdout",
     "output_type": "stream",
     "text": [
      "The average drivers for suburban city is 14.\n",
      "The median drivers for suburban city is 16\n",
      "The mode drivers for urban city is ModeResult(mode=array([20]), count=array([79]))\n"
     ]
    }
   ],
   "source": [
    "#calculate the measure of central tendency for the average driver count for the suburban cities\n",
    "mean_suburban_drivers = np.mean(suburban_drivers)\n",
    "print(f\"The average drivers for suburban city is {mean_suburban_drivers:.0f}.\")\n",
    "\n",
    "median_suburban_drivers = np.median(suburban_drivers)\n",
    "print(f\"The median drivers for suburban city is {median_suburban_drivers:.0f}\")\n",
    "\n",
    "mode_suburban_drivers = sts.mode(suburban_drivers)\n",
    "print(f\"The mode drivers for urban city is {mode_suburban_drivers}\")"
   ]
  },
  {
   "cell_type": "code",
   "execution_count": 741,
   "metadata": {},
   "outputs": [
    {
     "name": "stdout",
     "output_type": "stream",
     "text": [
      "The average drivers for rural city is 4.\n",
      "The median drivers for rural city is 4\n",
      "The mode drivers for rural city is ModeResult(mode=array([1]), count=array([32]))\n"
     ]
    }
   ],
   "source": [
    "#calculate the measure of central tendency for the average driver count for the rural cities\n",
    "mean_rural_drivers = np.mean(rural_drivers)\n",
    "print(f\"The average drivers for rural city is {mean_rural_drivers:.0f}.\")\n",
    "\n",
    "median_rural_drivers = np.median(rural_drivers)\n",
    "print(f\"The median drivers for rural city is {median_rural_drivers:.0f}\")\n",
    "\n",
    "mode_rural_drivers = sts.mode(rural_drivers)\n",
    "print(f\"The mode drivers for rural city is {mode_rural_drivers}\")"
   ]
  },
  {
   "cell_type": "code",
   "execution_count": 742,
   "metadata": {},
   "outputs": [
    {
     "data": {
      "image/png": "[encoded data removed]",
      "text/plain": [
       "<Figure size 432x288 with 1 Axes>"
      ]
     },
     "metadata": {
      "needs_background": "light"
     },
     "output_type": "display_data"
    }
   ],
   "source": [
    "#create box-and-whisker plot for urban ride count\n",
    "x_labels = [\"Urban\"]\n",
    "fig, ax = plt.subplots()\n",
    "ax.boxplot(urban_ride_count, labels=x_labels)\n",
    "#adding title, y-axis label and grid\n",
    "ax.set_title(\"Ride Count Data (2019)\")\n",
    "ax.set_ylabel('Number of Rides')\n",
    "ax.set_yticks(np.arange(10,41, step=2.0))\n",
    "ax.grid()\n",
    "plt.show()"
   ]
  },
  {
   "cell_type": "code",
   "execution_count": 743,
   "metadata": {},
   "outputs": [
    {
     "data": {
      "text/plain": [
       "count    66.000000\n",
       "mean     24.621212\n",
       "std       5.408726\n",
       "min      12.000000\n",
       "25%      21.000000\n",
       "50%      24.000000\n",
       "75%      28.000000\n",
       "max      39.000000\n",
       "Name: ride_id, dtype: float64"
      ]
     },
     "execution_count": 743,
     "metadata": {},
     "output_type": "execute_result"
    }
   ],
   "source": [
    "urban_ride_count.describe()"
   ]
  },
  {
   "cell_type": "code",
   "execution_count": 744,
   "metadata": {},
   "outputs": [
    {
     "data": {
      "image/png": "[encoded data removed]",
      "text/plain": [
       "<Figure size 432x288 with 1 Axes>"
      ]
     },
     "metadata": {
      "needs_background": "light"
     },
     "output_type": "display_data"
    }
   ],
   "source": [
    "#create box-and-whisker plot for suburban ride count\n",
    "x_labels = [\"Suburban\"]\n",
    "fig, ax = plt.subplots()\n",
    "ax.boxplot(suburban_ride_count, labels=x_labels)\n",
    "#adding title, y-axis label and grid\n",
    "ax.set_title(\"Ride Count Data (2019)\")\n",
    "ax.set_ylabel('Number of Rides')\n",
    "ax.set_yticks(np.arange(0,36, step=2.0))\n",
    "ax.grid()\n",
    "plt.show()"
   ]
  },
  {
   "cell_type": "code",
   "execution_count": 745,
   "metadata": {},
   "outputs": [
    {
     "data": {
      "image/png": "[encoded data removed]",
      "text/plain": [
       "<Figure size 432x288 with 1 Axes>"
      ]
     },
     "metadata": {
      "needs_background": "light"
     },
     "output_type": "display_data"
    }
   ],
   "source": [
    "#create box-and-whisker plot for rural ride count\n",
    "x_labels = [\"Rural\"]\n",
    "fig, ax = plt.subplots()\n",
    "ax.boxplot(rural_ride_count, labels=x_labels)\n",
    "#adding title, y-axis label and grid\n",
    "ax.set_title(\"Ride Count Data (2019)\")\n",
    "ax.set_ylabel('Number of Rides')\n",
    "ax.set_yticks(np.arange(0,25, step=2.0))\n",
    "ax.grid()\n",
    "plt.show()"
   ]
  },
  {
   "cell_type": "code",
   "execution_count": 746,
   "metadata": {},
   "outputs": [
    {
     "data": {
      "text/plain": [
       "count    18.000000\n",
       "mean      6.944444\n",
       "std       2.508157\n",
       "min       3.000000\n",
       "25%       5.250000\n",
       "50%       6.000000\n",
       "75%       8.750000\n",
       "max      12.000000\n",
       "Name: ride_id, dtype: float64"
      ]
     },
     "execution_count": 746,
     "metadata": {},
     "output_type": "execute_result"
    }
   ],
   "source": [
    "rural_ride_count.describe()"
   ]
  },
  {
   "cell_type": "code",
   "execution_count": 747,
   "metadata": {},
   "outputs": [
    {
     "data": {
      "text/plain": [
       "count    36.000000\n",
       "mean     17.361111\n",
       "std       4.323707\n",
       "min       9.000000\n",
       "25%      14.000000\n",
       "50%      17.000000\n",
       "75%      19.250000\n",
       "max      27.000000\n",
       "Name: ride_id, dtype: float64"
      ]
     },
     "execution_count": 747,
     "metadata": {},
     "output_type": "execute_result"
    }
   ],
   "source": [
    "suburban_ride_count.describe()"
   ]
  },
  {
   "cell_type": "code",
   "execution_count": 748,
   "metadata": {},
   "outputs": [
    {
     "data": {
      "text/plain": [
       "count    66.000000\n",
       "mean     24.621212\n",
       "std       5.408726\n",
       "min      12.000000\n",
       "25%      21.000000\n",
       "50%      24.000000\n",
       "75%      28.000000\n",
       "max      39.000000\n",
       "Name: ride_id, dtype: float64"
      ]
     },
     "execution_count": 748,
     "metadata": {},
     "output_type": "execute_result"
    }
   ],
   "source": [
    "urban_ride_count.describe()"
   ]
  },
  {
   "cell_type": "code",
   "execution_count": 749,
   "metadata": {},
   "outputs": [
    {
     "data": {
      "image/png": "[encoded data removed]",
      "text/plain": [
       "<Figure size 720x432 with 1 Axes>"
      ]
     },
     "metadata": {
      "needs_background": "light"
     },
     "output_type": "display_data"
    }
   ],
   "source": [
    "#create box-and-whisker plot for all city ride count\n",
    "x_labels = [\"Urban\",\"Suburban\",\"Rural\"]\n",
    "ride_count_data = [urban_ride_count, suburban_ride_count, rural_ride_count]\n",
    "fig, ax = plt.subplots(figsize=(10,6))\n",
    "ax.boxplot(ride_count_data, labels=x_labels)\n",
    "#adding title, y-axis label and grid\n",
    "ax.set_title(\"Ride Count Data (2019)\", fontsize=20)\n",
    "ax.set_ylabel('Number of Rides', fontsize=14)\n",
    "ax.set_xlabel('City Types', fontsize=14)\n",
    "ax.set_yticks(np.arange(0,45, step=2.0))\n",
    "ax.grid()\n",
    "# Save the figure.\n",
    "plt.savefig(\"analysis/Fig2.png\")\n",
    "plt.show()"
   ]
  },
  {
   "cell_type": "code",
   "execution_count": 750,
   "metadata": {},
   "outputs": [
    {
     "name": "stdout",
     "output_type": "stream",
     "text": [
      "West Angela has the highest rider count.\n"
     ]
    }
   ],
   "source": [
    "# Get the city that matches 39.\n",
    "urban_city_outlier = urban_ride_count[urban_ride_count==39].index[0]\n",
    "print(f\"{urban_city_outlier} has the highest rider count.\")"
   ]
  },
  {
   "cell_type": "code",
   "execution_count": 751,
   "metadata": {
    "scrolled": true
   },
   "outputs": [
    {
     "data": {
      "image/png": "[encoded data removed]",
      "text/plain": [
       "<Figure size 432x288 with 1 Axes>"
      ]
     },
     "metadata": {
      "needs_background": "light"
     },
     "output_type": "display_data"
    },
    {
     "name": "stdout",
     "output_type": "stream",
     "text": [
      "Summary Statistics\n"
     ]
    },
    {
     "data": {
      "text/plain": [
       "count    1625.000000\n",
       "mean       24.525772\n",
       "std        11.738649\n",
       "min         4.050000\n",
       "25%        14.550000\n",
       "50%        24.640000\n",
       "75%        34.580000\n",
       "max        44.970000\n",
       "Name: fare, dtype: float64"
      ]
     },
     "execution_count": 751,
     "metadata": {},
     "output_type": "execute_result"
    }
   ],
   "source": [
    "# Create a box-and-whisker plot for the urban fare data.\n",
    "x_labels = [\"Urban\"]\n",
    "fig, ax = plt.subplots()\n",
    "ax.boxplot(urban_fares, labels=x_labels)\n",
    "# Add the title, y-axis label and grid.\n",
    "ax.set_title('Ride Fare Data (2019)')\n",
    "ax.set_ylabel('Fare($USD)')\n",
    "ax.set_yticks(np.arange(0, 51, step=5.0))\n",
    "ax.grid()\n",
    "plt.show()\n",
    "print(\"Summary Statistics\")\n",
    "urban_fares.describe()"
   ]
  },
  {
   "cell_type": "code",
   "execution_count": 752,
   "metadata": {
    "scrolled": true
   },
   "outputs": [
    {
     "data": {
      "image/png": "[encoded data removed]",
      "text/plain": [
       "<Figure size 432x288 with 1 Axes>"
      ]
     },
     "metadata": {
      "needs_background": "light"
     },
     "output_type": "display_data"
    },
    {
     "name": "stdout",
     "output_type": "stream",
     "text": [
      "Summary Statistics\n"
     ]
    },
    {
     "data": {
      "text/plain": [
       "count    625.000000\n",
       "mean      30.970128\n",
       "std       10.677508\n",
       "min       12.050000\n",
       "25%       21.970000\n",
       "50%       30.750000\n",
       "75%       39.830000\n",
       "max       49.960000\n",
       "Name: fare, dtype: float64"
      ]
     },
     "execution_count": 752,
     "metadata": {},
     "output_type": "execute_result"
    }
   ],
   "source": [
    "# Create a box-and-whisker plot for the suburban fare data.\n",
    "x_labels = [\"Suburban\"]\n",
    "fig, ax = plt.subplots()\n",
    "ax.boxplot(suburban_fares, labels=x_labels)\n",
    "# Add the title, y-axis label and grid.\n",
    "ax.set_title('Ride Fare Data (2019)')\n",
    "ax.set_ylabel('Fare($USD)')\n",
    "ax.set_yticks(np.arange(0, 51, step=5.0))\n",
    "ax.grid()\n",
    "plt.show()\n",
    "print(\"Summary Statistics\")\n",
    "suburban_fares.describe()"
   ]
  },
  {
   "cell_type": "code",
   "execution_count": 753,
   "metadata": {},
   "outputs": [
    {
     "data": {
      "image/png": "[encoded data removed]",
      "text/plain": [
       "<Figure size 432x288 with 1 Axes>"
      ]
     },
     "metadata": {
      "needs_background": "light"
     },
     "output_type": "display_data"
    },
    {
     "name": "stdout",
     "output_type": "stream",
     "text": [
      "Summary Statistics\n"
     ]
    },
    {
     "data": {
      "text/plain": [
       "count    125.000000\n",
       "mean      34.623440\n",
       "std       14.558046\n",
       "min       10.110000\n",
       "25%       19.900000\n",
       "50%       37.050000\n",
       "75%       47.070000\n",
       "max       58.550000\n",
       "Name: fare, dtype: float64"
      ]
     },
     "execution_count": 753,
     "metadata": {},
     "output_type": "execute_result"
    }
   ],
   "source": [
    "# Create a box-and-whisker plot for the rural fare data.\n",
    "x_labels = [\"Rural\"]\n",
    "fig, ax = plt.subplots()\n",
    "ax.boxplot(rural_fares, labels=x_labels)\n",
    "# Add the title, y-axis label and grid.\n",
    "ax.set_title('Ride Fare Data (2019)')\n",
    "ax.set_ylabel('Fare($USD)')\n",
    "ax.set_yticks(np.arange(0, 51, step=5.0))\n",
    "ax.grid()\n",
    "plt.show()\n",
    "print(\"Summary Statistics\")\n",
    "rural_fares.describe()"
   ]
  },
  {
   "cell_type": "code",
   "execution_count": 754,
   "metadata": {},
   "outputs": [
    {
     "data": {
      "image/png": "[encoded data removed]",
      "text/plain": [
       "<Figure size 720x432 with 1 Axes>"
      ]
     },
     "metadata": {
      "needs_background": "light"
     },
     "output_type": "display_data"
    }
   ],
   "source": [
    "#create box-and-whisker for urban fare data\n",
    "x_labels = [\"Urban\", \"Suburban\", \"Rural\"]\n",
    "fare_data = [urban_fares, suburban_fares, rural_fares]\n",
    "fig, ax = plt.subplots(figsize=(10,6))\n",
    "ax.boxplot(fare_data, labels=x_labels)\n",
    "#adding title, y-axis label and grid\n",
    "ax.set_title(\"Ride Fare Data (2019)\", fontsize=20)\n",
    "ax.set_ylabel('Fares($USD)', fontsize=14)\n",
    "ax.set_xlabel('City Types', fontsize=14)\n",
    "ax.set_yticks(np.arange(0,51, step=5.0))\n",
    "ax.grid()\n",
    "#save the figure\n",
    "plt.savefig(\"analysis/Fig3.png\")\n",
    "plt.show()"
   ]
  },
  {
   "cell_type": "code",
   "execution_count": 755,
   "metadata": {},
   "outputs": [
    {
     "data": {
      "image/png": "[encoded data removed]",
      "text/plain": [
       "<Figure size 432x288 with 1 Axes>"
      ]
     },
     "metadata": {
      "needs_background": "light"
     },
     "output_type": "display_data"
    },
    {
     "name": "stdout",
     "output_type": "stream",
     "text": [
      "Summary Statistics\n"
     ]
    },
    {
     "data": {
      "text/plain": [
       "count    1625.000000\n",
       "mean       36.678154\n",
       "std        20.075545\n",
       "min         3.000000\n",
       "25%        22.000000\n",
       "50%        37.000000\n",
       "75%        52.000000\n",
       "max        73.000000\n",
       "Name: driver_count, dtype: float64"
      ]
     },
     "execution_count": 755,
     "metadata": {},
     "output_type": "execute_result"
    }
   ],
   "source": [
    "# Create the box-and-whisker plot for the urban driver count data.\n",
    "x_labels = [\"Urban\"]\n",
    "fig, ax = plt.subplots()\n",
    "ax.boxplot(urban_drivers,labels=x_labels)\n",
    "# Add the title, y-axis label and grid.\n",
    "ax.set_title('Driver Count Data (2019)')\n",
    "ax.set_ylabel('Number of Drivers)')\n",
    "ax.set_yticks(np.arange(0, 90, step=5.0))\n",
    "ax.grid()\n",
    "plt.show()\n",
    "print(\"Summary Statistics\")\n",
    "urban_drivers.describe()"
   ]
  },
  {
   "cell_type": "code",
   "execution_count": 756,
   "metadata": {},
   "outputs": [
    {
     "data": {
      "image/png": "[encoded data removed]",
      "text/plain": [
       "<Figure size 432x288 with 1 Axes>"
      ]
     },
     "metadata": {
      "needs_background": "light"
     },
     "output_type": "display_data"
    },
    {
     "name": "stdout",
     "output_type": "stream",
     "text": [
      "Summary Statistics\n"
     ]
    },
    {
     "data": {
      "text/plain": [
       "count    625.000000\n",
       "mean      13.712000\n",
       "std        8.042372\n",
       "min        1.000000\n",
       "25%        5.000000\n",
       "50%       16.000000\n",
       "75%       21.000000\n",
       "max       25.000000\n",
       "Name: driver_count, dtype: float64"
      ]
     },
     "execution_count": 756,
     "metadata": {},
     "output_type": "execute_result"
    }
   ],
   "source": [
    "# Create the box-and-whisker plot for the suburban driver count data.\n",
    "x_labels = [\"Suburban\"]\n",
    "fig, ax = plt.subplots()\n",
    "ax.boxplot(suburban_drivers,labels=x_labels)\n",
    "# Add the title, y-axis label and grid.\n",
    "ax.set_title('Driver Count Data (2019)')\n",
    "ax.set_ylabel('Number of Drivers)')\n",
    "ax.set_yticks(np.arange(0, 45, step=5.0))\n",
    "ax.grid()\n",
    "plt.show()\n",
    "print(\"Summary Statistics\")\n",
    "suburban_drivers.describe()"
   ]
  },
  {
   "cell_type": "code",
   "execution_count": 757,
   "metadata": {},
   "outputs": [
    {
     "data": {
      "image/png": "[encoded data removed]",
      "text/plain": [
       "<Figure size 432x288 with 1 Axes>"
      ]
     },
     "metadata": {
      "needs_background": "light"
     },
     "output_type": "display_data"
    },
    {
     "name": "stdout",
     "output_type": "stream",
     "text": [
      "Summary Statistics\n"
     ]
    },
    {
     "data": {
      "text/plain": [
       "count    125.000000\n",
       "mean       4.296000\n",
       "std        2.691156\n",
       "min        1.000000\n",
       "25%        1.000000\n",
       "50%        4.000000\n",
       "75%        7.000000\n",
       "max        9.000000\n",
       "Name: driver_count, dtype: float64"
      ]
     },
     "execution_count": 757,
     "metadata": {},
     "output_type": "execute_result"
    }
   ],
   "source": [
    "# Create the box-and-whisker plot for the rural driver count data.\n",
    "x_labels = [\"Rural\"]\n",
    "fig, ax = plt.subplots()\n",
    "ax.boxplot(rural_drivers,labels=x_labels)\n",
    "# Add the title, y-axis label and grid.\n",
    "ax.set_title('Driver Count Data (2019)')\n",
    "ax.set_ylabel('Number of Drivers)')\n",
    "ax.set_yticks(np.arange(0, 20, step=5.0))\n",
    "ax.grid()\n",
    "plt.show()\n",
    "print(\"Summary Statistics\")\n",
    "rural_drivers.describe()"
   ]
  },
  {
   "cell_type": "code",
   "execution_count": 758,
   "metadata": {},
   "outputs": [
    {
     "data": {
      "image/png": "[encoded data removed]",
      "text/plain": [
       "<Figure size 720x432 with 1 Axes>"
      ]
     },
     "metadata": {
      "needs_background": "light"
     },
     "output_type": "display_data"
    }
   ],
   "source": [
    "# Create the box-and-whisker plot for the suburban driver count data.\n",
    "x_labels = [\"Urban\",\"Suburban\", \"Rural\"]\n",
    "drivers_data = [urban_drivers, suburban_drivers, rural_drivers]\n",
    "fig, ax = plt.subplots(figsize=(10,6))\n",
    "ax.boxplot(drivers_data,labels=x_labels)\n",
    "# Add the title, y-axis label and grid.\n",
    "ax.set_title('Driver Count Data (2019)', fontsize=20)\n",
    "ax.set_ylabel('Number of Drivers', fontsize=14)\n",
    "ax.set_xlabel('City Types', fontsize=14)\n",
    "ax.set_yticks(np.arange(0, 75, step=5.0))\n",
    "ax.grid()\n",
    "#save the figure\n",
    "plt.savefig(\"analysis/Fig4.png\")\n",
    "plt.show()"
   ]
  },
  {
   "cell_type": "code",
   "execution_count": 759,
   "metadata": {},
   "outputs": [
    {
     "data": {
      "text/plain": [
       "type\n",
       "Rural        4327.93\n",
       "Suburban    19356.33\n",
       "Urban       39854.38\n",
       "Name: fare, dtype: float64"
      ]
     },
     "execution_count": 759,
     "metadata": {},
     "output_type": "execute_result"
    }
   ],
   "source": [
    "#calculate sum of the fares for each individual city type\n",
    "sum_fare_by_citytype = pyber_data_df.groupby(\"type\").sum()[\"fare\"]\n",
    "sum_fare_by_citytype"
   ]
  },
  {
   "cell_type": "code",
   "execution_count": 760,
   "metadata": {},
   "outputs": [
    {
     "data": {
      "text/plain": [
       "63538.6400000001"
      ]
     },
     "execution_count": 760,
     "metadata": {},
     "output_type": "execute_result"
    }
   ],
   "source": [
    "#total sum of the fares for all the city types\n",
    "total_fare = sum_fare_by_citytype.sum()\n",
    "total_fare"
   ]
  },
  {
   "cell_type": "code",
   "execution_count": 761,
   "metadata": {},
   "outputs": [
    {
     "data": {
      "text/plain": [
       "type\n",
       "Rural        6.811493\n",
       "Suburban    30.463872\n",
       "Urban       62.724635\n",
       "Name: fare, dtype: float64"
      ]
     },
     "execution_count": 761,
     "metadata": {},
     "output_type": "execute_result"
    }
   ],
   "source": [
    "#calculate percentage of sum of the fares by city\n",
    "percentage_by_citytype = (sum_fare_by_citytype / total_fare) *100\n",
    "percentage_by_citytype"
   ]
  },
  {
   "cell_type": "code",
   "execution_count": 762,
   "metadata": {},
   "outputs": [
    {
     "data": {
      "image/png": "[encoded data removed]",
      "text/plain": [
       "<Figure size 432x288 with 1 Axes>"
      ]
     },
     "metadata": {},
     "output_type": "display_data"
    }
   ],
   "source": [
    "# Build the percentage of fares by city type pie chart.\n",
    "plt.pie(percentage_by_citytype, \n",
    "        labels=[\"Rural\", \"Suburban\", \"Urban\"],\n",
    "        colors=[\"gold\", \"skyblue\", \"lightcoral\"],\n",
    "        explode=[0,0,0.1],\n",
    "        autopct=\"%.1f%%\",\n",
    "        shadow=True, startangle=150)\n",
    "plt.title(\"% of Total fares by city type\")\n",
    "\n",
    "plt.show()"
   ]
  },
  {
   "cell_type": "code",
   "execution_count": 763,
   "metadata": {},
   "outputs": [
    {
     "data": {
      "image/png": "[encoded data removed]",
      "text/plain": [
       "<Figure size 720x432 with 1 Axes>"
      ]
     },
     "metadata": {},
     "output_type": "display_data"
    }
   ],
   "source": [
    "#import dependency\n",
    "import matplotlib as mpl\n",
    "\n",
    "plt.subplots(figsize=(10,6))\n",
    "# Build the percentage of fares by city type pie chart.\n",
    "plt.pie(percentage_by_citytype, \n",
    "        labels=[\"Rural\", \"Suburban\", \"Urban\"],\n",
    "        colors=[\"gold\", \"lightskyblue\", \"lightcoral\"],\n",
    "        explode=[0,0,0.1],\n",
    "        autopct=\"%.1f%%\",\n",
    "        shadow=True, startangle=150)\n",
    "plt.title(\"% of Total fares by city type\")\n",
    "\n",
    "mpl.rcParams['font.size'] = 14\n",
    "\n",
    "#save the figure\n",
    "plt.savefig(\"analysis/Fig5.png\")\n",
    "plt.show()\n"
   ]
  },
  {
   "cell_type": "code",
   "execution_count": 764,
   "metadata": {},
   "outputs": [
    {
     "name": "stdout",
     "output_type": "stream",
     "text": [
      "Help on function pie in module matplotlib.pyplot:\n",
      "\n",
      "pie(x, explode=None, labels=None, colors=None, autopct=None, pctdistance=0.6, shadow=False, labeldistance=1.1, startangle=None, radius=None, counterclock=True, wedgeprops=None, textprops=None, center=(0, 0), frame=False, rotatelabels=False, *, data=None)\n",
      "    Plot a pie chart.\n",
      "    \n",
      "    Make a pie chart of array *x*.  The fractional area of each wedge is\n",
      "    given by ``x/sum(x)``.  If ``sum(x) < 1``, then the values of *x* give\n",
      "    the fractional area directly and the array will not be normalized. The\n",
      "    resulting pie will have an empty wedge of size ``1 - sum(x)``.\n",
      "    \n",
      "    The wedges are plotted counterclockwise, by default starting from the\n",
      "    x-axis.\n",
      "    \n",
      "    Parameters\n",
      "    ----------\n",
      "    x : array-like\n",
      "        The wedge sizes.\n",
      "    \n",
      "    explode : array-like, optional, default: None\n",
      "        If not *None*, is a ``len(x)`` array which specifies the fraction\n",
      "        of the radius with which to offset each wedge.\n",
      "    \n",
      "    labels : list, optional, default: None\n",
      "        A sequence of strings providing the labels for each wedge\n",
      "    \n",
      "    colors : array-like, optional, default: None\n",
      "        A sequence of matplotlib color args through which the pie chart\n",
      "        will cycle.  If *None*, will use the colors in the currently\n",
      "        active cycle.\n",
      "    \n",
      "    autopct : None (default), string, or function, optional\n",
      "        If not *None*, is a string or function used to label the wedges\n",
      "        with their numeric value.  The label will be placed inside the\n",
      "        wedge.  If it is a format string, the label will be ``fmt%pct``.\n",
      "        If it is a function, it will be called.\n",
      "    \n",
      "    pctdistance : float, optional, default: 0.6\n",
      "        The ratio between the center of each pie slice and the start of\n",
      "        the text generated by *autopct*.  Ignored if *autopct* is *None*.\n",
      "    \n",
      "    shadow : bool, optional, default: False\n",
      "        Draw a shadow beneath the pie.\n",
      "    \n",
      "    labeldistance : float or None, optional, default: 1.1\n",
      "        The radial distance at which the pie labels are drawn.\n",
      "        If set to ``None``, label are not drawn, but are stored for use in\n",
      "        ``legend()``\n",
      "    \n",
      "    startangle : float, optional, default: None\n",
      "        If not *None*, rotates the start of the pie chart by *angle*\n",
      "        degrees counterclockwise from the x-axis.\n",
      "    \n",
      "    radius : float, optional, default: None\n",
      "        The radius of the pie, if *radius* is *None* it will be set to 1.\n",
      "    \n",
      "    counterclock : bool, optional, default: True\n",
      "        Specify fractions direction, clockwise or counterclockwise.\n",
      "    \n",
      "    wedgeprops : dict, optional, default: None\n",
      "        Dict of arguments passed to the wedge objects making the pie.\n",
      "        For example, you can pass in ``wedgeprops = {'linewidth': 3}``\n",
      "        to set the width of the wedge border lines equal to 3.\n",
      "        For more details, look at the doc/arguments of the wedge object.\n",
      "        By default ``clip_on=False``.\n",
      "    \n",
      "    textprops : dict, optional, default: None\n",
      "        Dict of arguments to pass to the text objects.\n",
      "    \n",
      "    center :  list of float, optional, default: (0, 0)\n",
      "        Center position of the chart. Takes value (0, 0) or is a sequence\n",
      "        of 2 scalars.\n",
      "    \n",
      "    frame : bool, optional, default: False\n",
      "        Plot axes frame with the chart if true.\n",
      "    \n",
      "    rotatelabels : bool, optional, default: False\n",
      "        Rotate each label to the angle of the corresponding slice if true.\n",
      "    \n",
      "    Returns\n",
      "    -------\n",
      "    patches : list\n",
      "        A sequence of :class:`matplotlib.patches.Wedge` instances\n",
      "    \n",
      "    texts : list\n",
      "        A list of the label :class:`matplotlib.text.Text` instances.\n",
      "    \n",
      "    autotexts : list\n",
      "        A list of :class:`~matplotlib.text.Text` instances for the numeric\n",
      "        labels. This will only be returned if the parameter *autopct* is\n",
      "        not *None*.\n",
      "    \n",
      "    Notes\n",
      "    -----\n",
      "    The pie chart will probably look best if the figure and axes are\n",
      "    square, or the Axes aspect is equal.\n",
      "    This method sets the aspect ratio of the axis to \"equal\".\n",
      "    The axes aspect ratio can be controlled with `Axes.set_aspect`.\n",
      "    \n",
      "    .. note::\n",
      "        In addition to the above described arguments, this function can take a\n",
      "        **data** keyword argument. If such a **data** argument is given, the\n",
      "        following arguments are replaced by **data[<arg>]**:\n",
      "    \n",
      "        * All arguments with the following names: 'colors', 'explode', 'labels', 'x'.\n",
      "    \n",
      "        Objects passed as **data** must support item access (``data[<arg>]``) and\n",
      "        membership test (``<arg> in data``).\n",
      "\n"
     ]
    }
   ],
   "source": [
    "help(plt.pie)"
   ]
  },
  {
   "cell_type": "code",
   "execution_count": 765,
   "metadata": {},
   "outputs": [
    {
     "data": {
      "text/plain": [
       "<matplotlib.axes._subplots.AxesSubplot at 0x1a282656a0>"
      ]
     },
     "execution_count": 765,
     "metadata": {},
     "output_type": "execute_result"
    },
    {
     "data": {
      "image/png": "[encoded data removed]",
      "text/plain": [
       "<Figure size 720x432 with 1 Axes>"
      ]
     },
     "metadata": {},
     "output_type": "display_data"
    }
   ],
   "source": [
    "percentage_by_citytype.plot(kind=\"pie\", figsize=(10,6), fontsize=14, title=\"Fares by city type\", label =\"\", colors=[\"gold\", \"lightskyblue\", \"lightcoral\"], shadow=True, startangle=150)\n"
   ]
  },
  {
   "cell_type": "code",
   "execution_count": 766,
   "metadata": {
    "scrolled": false
   },
   "outputs": [
    {
     "name": "stderr",
     "output_type": "stream",
     "text": [
      "No handles with labels found to put in legend.\n"
     ]
    },
    {
     "name": "stdout",
     "output_type": "stream",
     "text": [
      "Help on Legend in module matplotlib.legend object:\n",
      "\n",
      "class Legend(matplotlib.artist.Artist)\n",
      " |  Place a legend on the axes at location loc.\n",
      " |  \n",
      " |  Method resolution order:\n",
      " |      Legend\n",
      " |      matplotlib.artist.Artist\n",
      " |      builtins.object\n",
      " |  \n",
      " |  Methods defined here:\n",
      " |  \n",
      " |  __init__(self, parent, handles, labels, loc=None, numpoints=None, markerscale=None, markerfirst=True, scatterpoints=None, scatteryoffsets=None, prop=None, fontsize=None, borderpad=None, labelspacing=None, handlelength=None, handleheight=None, handletextpad=None, borderaxespad=None, columnspacing=None, ncol=1, mode=None, fancybox=None, shadow=None, title=None, title_fontsize=None, framealpha=None, edgecolor=None, facecolor=None, bbox_to_anchor=None, bbox_transform=None, frameon=None, handler_map=None)\n",
      " |      Parameters\n",
      " |      ----------\n",
      " |      parent : `~matplotlib.axes.Axes` or `.Figure`\n",
      " |          The artist that contains the legend.\n",
      " |      \n",
      " |      handles : sequence of `.Artist`\n",
      " |          A list of Artists (lines, patches) to be added to the legend.\n",
      " |      \n",
      " |      labels : sequence of strings\n",
      " |          A list of labels to show next to the artists. The length of handles\n",
      " |          and labels should be the same. If they are not, they are truncated\n",
      " |          to the smaller of both lengths.\n",
      " |      \n",
      " |      Other Parameters\n",
      " |      ----------------\n",
      " |      \n",
      " |      \n",
      " |      loc : str or pair of floats, default: :rc:`legend.loc` ('best' for axes, 'upper right' for figures)\n",
      " |          The location of the legend.\n",
      " |      \n",
      " |          The strings\n",
      " |          ``'upper left', 'upper right', 'lower left', 'lower right'``\n",
      " |          place the legend at the corresponding corner of the axes/figure.\n",
      " |      \n",
      " |          The strings\n",
      " |          ``'upper center', 'lower center', 'center left', 'center right'``\n",
      " |          place the legend at the center of the corresponding edge of the\n",
      " |          axes/figure.\n",
      " |      \n",
      " |          The string ``'center'`` places the legend at the center of the axes/figure.\n",
      " |      \n",
      " |          The string ``'best'`` places the legend at the location, among the nine\n",
      " |          locations defined so far, with the minimum overlap with other drawn\n",
      " |          artists.  This option can be quite slow for plots with large amounts of\n",
      " |          data; your plotting speed may benefit from providing a specific location.\n",
      " |      \n",
      " |          The location can also be a 2-tuple giving the coordinates of the lower-left\n",
      " |          corner of the legend in axes coordinates (in which case *bbox_to_anchor*\n",
      " |          will be ignored).\n",
      " |      \n",
      " |          For back-compatibility, ``'center right'`` (but no other location) can also\n",
      " |          be spelled ``'right'``, and each \"string\" locations can also be given as a\n",
      " |          numeric value:\n",
      " |      \n",
      " |              ===============   =============\n",
      " |              Location String   Location Code\n",
      " |              ===============   =============\n",
      " |              'best'            0\n",
      " |              'upper right'     1\n",
      " |              'upper left'      2\n",
      " |              'lower left'      3\n",
      " |              'lower right'     4\n",
      " |              'right'           5\n",
      " |              'center left'     6\n",
      " |              'center right'    7\n",
      " |              'lower center'    8\n",
      " |              'upper center'    9\n",
      " |              'center'          10\n",
      " |              ===============   =============\n",
      " |      \n",
      " |      bbox_to_anchor : `.BboxBase`, 2-tuple, or 4-tuple of floats\n",
      " |          Box that is used to position the legend in conjunction with *loc*.\n",
      " |          Defaults to `axes.bbox` (if called as a method to `.Axes.legend`) or\n",
      " |          `figure.bbox` (if `.Figure.legend`).  This argument allows arbitrary\n",
      " |          placement of the legend.\n",
      " |      \n",
      " |          Bbox coordinates are interpreted in the coordinate system given by\n",
      " |          `bbox_transform`, with the default transform\n",
      " |          Axes or Figure coordinates, depending on which ``legend`` is called.\n",
      " |      \n",
      " |          If a 4-tuple or `.BboxBase` is given, then it specifies the bbox\n",
      " |          ``(x, y, width, height)`` that the legend is placed in.\n",
      " |          To put the legend in the best location in the bottom right\n",
      " |          quadrant of the axes (or figure)::\n",
      " |      \n",
      " |              loc='best', bbox_to_anchor=(0.5, 0., 0.5, 0.5)\n",
      " |      \n",
      " |          A 2-tuple ``(x, y)`` places the corner of the legend specified by *loc* at\n",
      " |          x, y.  For example, to put the legend's upper right-hand corner in the\n",
      " |          center of the axes (or figure) the following keywords can be used::\n",
      " |      \n",
      " |              loc='upper right', bbox_to_anchor=(0.5, 0.5)\n",
      " |      \n",
      " |      ncol : integer\n",
      " |          The number of columns that the legend has. Default is 1.\n",
      " |      \n",
      " |      prop : None or :class:`matplotlib.font_manager.FontProperties` or dict\n",
      " |          The font properties of the legend. If None (default), the current\n",
      " |          :data:`matplotlib.rcParams` will be used.\n",
      " |      \n",
      " |      fontsize : int or float or {'xx-small', 'x-small', 'small', 'medium', 'large', 'x-large', 'xx-large'}\n",
      " |          Controls the font size of the legend. If the value is numeric the\n",
      " |          size will be the absolute font size in points. String values are\n",
      " |          relative to the current default font size. This argument is only\n",
      " |          used if `prop` is not specified.\n",
      " |      \n",
      " |      numpoints : None or int\n",
      " |          The number of marker points in the legend when creating a legend\n",
      " |          entry for a `.Line2D` (line).\n",
      " |          Default is ``None``, which will take the value from\n",
      " |          :rc:`legend.numpoints`.\n",
      " |      \n",
      " |      scatterpoints : None or int\n",
      " |          The number of marker points in the legend when creating\n",
      " |          a legend entry for a `.PathCollection` (scatter plot).\n",
      " |          Default is ``None``, which will take the value from\n",
      " |          :rc:`legend.scatterpoints`.\n",
      " |      \n",
      " |      scatteryoffsets : iterable of floats\n",
      " |          The vertical offset (relative to the font size) for the markers\n",
      " |          created for a scatter plot legend entry. 0.0 is at the base the\n",
      " |          legend text, and 1.0 is at the top. To draw all markers at the\n",
      " |          same height, set to ``[0.5]``. Default is ``[0.375, 0.5, 0.3125]``.\n",
      " |      \n",
      " |      markerscale : None or int or float\n",
      " |          The relative size of legend markers compared with the originally\n",
      " |          drawn ones.\n",
      " |          Default is ``None``, which will take the value from\n",
      " |          :rc:`legend.markerscale`.\n",
      " |      \n",
      " |      markerfirst : bool\n",
      " |          If *True*, legend marker is placed to the left of the legend label.\n",
      " |          If *False*, legend marker is placed to the right of the legend\n",
      " |          label.\n",
      " |          Default is *True*.\n",
      " |      \n",
      " |      frameon : None or bool\n",
      " |          Control whether the legend should be drawn on a patch\n",
      " |          (frame).\n",
      " |          Default is ``None``, which will take the value from\n",
      " |          :rc:`legend.frameon`.\n",
      " |      \n",
      " |      fancybox : None or bool\n",
      " |          Control whether round edges should be enabled around the\n",
      " |          :class:`~matplotlib.patches.FancyBboxPatch` which makes up the\n",
      " |          legend's background.\n",
      " |          Default is ``None``, which will take the value from\n",
      " |          :rc:`legend.fancybox`.\n",
      " |      \n",
      " |      shadow : None or bool\n",
      " |          Control whether to draw a shadow behind the legend.\n",
      " |          Default is ``None``, which will take the value from\n",
      " |          :rc:`legend.shadow`.\n",
      " |      \n",
      " |      framealpha : None or float\n",
      " |          Control the alpha transparency of the legend's background.\n",
      " |          Default is ``None``, which will take the value from\n",
      " |          :rc:`legend.framealpha`.  If shadow is activated and\n",
      " |          *framealpha* is ``None``, the default value is ignored.\n",
      " |      \n",
      " |      facecolor : None or \"inherit\" or a color spec\n",
      " |          Control the legend's background color.\n",
      " |          Default is ``None``, which will take the value from\n",
      " |          :rc:`legend.facecolor`.  If ``\"inherit\"``, it will take\n",
      " |          :rc:`axes.facecolor`.\n",
      " |      \n",
      " |      edgecolor : None or \"inherit\" or a color spec\n",
      " |          Control the legend's background patch edge color.\n",
      " |          Default is ``None``, which will take the value from\n",
      " |          :rc:`legend.edgecolor` If ``\"inherit\"``, it will take\n",
      " |          :rc:`axes.edgecolor`.\n",
      " |      \n",
      " |      mode : {\"expand\", None}\n",
      " |          If `mode` is set to ``\"expand\"`` the legend will be horizontally\n",
      " |          expanded to fill the axes area (or `bbox_to_anchor` if defines\n",
      " |          the legend's size).\n",
      " |      \n",
      " |      bbox_transform : None or :class:`matplotlib.transforms.Transform`\n",
      " |          The transform for the bounding box (`bbox_to_anchor`). For a value\n",
      " |          of ``None`` (default) the Axes'\n",
      " |          :data:`~matplotlib.axes.Axes.transAxes` transform will be used.\n",
      " |      \n",
      " |      title : str or None\n",
      " |          The legend's title. Default is no title (``None``).\n",
      " |      \n",
      " |      title_fontsize: str or None\n",
      " |          The fontsize of the legend's title.  Default is the default fontsize.\n",
      " |      \n",
      " |      borderpad : float or None\n",
      " |          The fractional whitespace inside the legend border.\n",
      " |          Measured in font-size units.\n",
      " |          Default is ``None``, which will take the value from\n",
      " |          :rc:`legend.borderpad`.\n",
      " |      \n",
      " |      labelspacing : float or None\n",
      " |          The vertical space between the legend entries.\n",
      " |          Measured in font-size units.\n",
      " |          Default is ``None``, which will take the value from\n",
      " |          :rc:`legend.labelspacing`.\n",
      " |      \n",
      " |      handlelength : float or None\n",
      " |          The length of the legend handles.\n",
      " |          Measured in font-size units.\n",
      " |          Default is ``None``, which will take the value from\n",
      " |          :rc:`legend.handlelength`.\n",
      " |      \n",
      " |      handletextpad : float or None\n",
      " |          The pad between the legend handle and text.\n",
      " |          Measured in font-size units.\n",
      " |          Default is ``None``, which will take the value from\n",
      " |          :rc:`legend.handletextpad`.\n",
      " |      \n",
      " |      borderaxespad : float or None\n",
      " |          The pad between the axes and legend border.\n",
      " |          Measured in font-size units.\n",
      " |          Default is ``None``, which will take the value from\n",
      " |          :rc:`legend.borderaxespad`.\n",
      " |      \n",
      " |      columnspacing : float or None\n",
      " |          The spacing between columns.\n",
      " |          Measured in font-size units.\n",
      " |          Default is ``None``, which will take the value from\n",
      " |          :rc:`legend.columnspacing`.\n",
      " |      \n",
      " |      handler_map : dict or None\n",
      " |          The custom dictionary mapping instances or types to a legend\n",
      " |          handler. This `handler_map` updates the default handler map\n",
      " |          found at :func:`matplotlib.legend.Legend.get_legend_handler_map`.\n",
      " |      \n",
      " |      \n",
      " |      \n",
      " |      Notes\n",
      " |      -----\n",
      " |      \n",
      " |      Users can specify any arbitrary location for the legend using the\n",
      " |      *bbox_to_anchor* keyword argument. bbox_to_anchor can be an instance\n",
      " |      of BboxBase(or its derivatives) or a tuple of 2 or 4 floats.\n",
      " |      See :meth:`set_bbox_to_anchor` for more detail.\n",
      " |      \n",
      " |      The legend location can be specified by setting *loc* with a tuple of\n",
      " |      2 floats, which is interpreted as the lower-left corner of the legend\n",
      " |      in the normalized axes coordinate.\n",
      " |  \n",
      " |  __str__(self)\n",
      " |      Return str(self).\n",
      " |  \n",
      " |  contains(self, event)\n",
      " |      Test whether the artist contains the mouse event.\n",
      " |      \n",
      " |      Parameters\n",
      " |      ----------\n",
      " |      mouseevent : `matplotlib.backend_bases.MouseEvent`\n",
      " |      \n",
      " |      Returns\n",
      " |      -------\n",
      " |      contains : bool\n",
      " |          Whether any values are within the radius.\n",
      " |      details : dict\n",
      " |          An artist-specific dictionary of details of the event context,\n",
      " |          such as which points are contained in the pick radius. See the\n",
      " |          individual Artist subclasses for details.\n",
      " |      \n",
      " |      See Also\n",
      " |      --------\n",
      " |      set_contains, get_contains\n",
      " |  \n",
      " |  draw(self, renderer)\n",
      " |      Draw everything that belongs to the legend.\n",
      " |  \n",
      " |  draw_frame(self, b)\n",
      " |      Set draw frame to b.\n",
      " |      \n",
      " |      Parameters\n",
      " |      ----------\n",
      " |      b : bool\n",
      " |  \n",
      " |  get_bbox_to_anchor(self)\n",
      " |      Return the bbox that the legend will be anchored to.\n",
      " |  \n",
      " |  get_children(self)\n",
      " |      Return a list of child artists.\n",
      " |  \n",
      " |  get_draggable(self)\n",
      " |      Return ``True`` if the legend is draggable, ``False`` otherwise.\n",
      " |  \n",
      " |  get_frame(self)\n",
      " |      Return the `~.patches.Rectangle` instances used to frame the legend.\n",
      " |  \n",
      " |  get_frame_on(self)\n",
      " |      Get whether the legend box patch is drawn.\n",
      " |  \n",
      " |  get_legend_handler_map(self)\n",
      " |      Return the handler map.\n",
      " |  \n",
      " |  get_lines(self)\n",
      " |      Return a list of `~.lines.Line2D` instances in the legend.\n",
      " |  \n",
      " |  get_patches(self)\n",
      " |      Return a list of `~.patches.Patch` instances in the legend.\n",
      " |  \n",
      " |  get_texts(self)\n",
      " |      Return a list of `~.text.Text` instances in the legend.\n",
      " |  \n",
      " |  get_tightbbox(self, renderer)\n",
      " |      Like `.Legend.get_window_extent`, but uses the box for the legend.\n",
      " |      \n",
      " |      Parameters\n",
      " |      ----------\n",
      " |      renderer : `.RendererBase` instance\n",
      " |          renderer that will be used to draw the figures (i.e.\n",
      " |          ``fig.canvas.get_renderer()``)\n",
      " |      \n",
      " |      Returns\n",
      " |      -------\n",
      " |      `.BboxBase` : containing the bounding box in figure pixel co-ordinates.\n",
      " |  \n",
      " |  get_title(self)\n",
      " |      Return the `.Text` instance for the legend title.\n",
      " |  \n",
      " |  get_window_extent(self, renderer=None)\n",
      " |      Return extent of the legend.\n",
      " |  \n",
      " |  set_bbox_to_anchor(self, bbox, transform=None)\n",
      " |      Set the bbox that the legend will be anchored to.\n",
      " |      \n",
      " |      *bbox* can be\n",
      " |      \n",
      " |      - A `.BboxBase` instance\n",
      " |      - A tuple of ``(left, bottom, width, height)`` in the given transform\n",
      " |        (normalized axes coordinate if None)\n",
      " |      - A tuple of ``(left, bottom)`` where the width and height will be\n",
      " |        assumed to be zero.\n",
      " |  \n",
      " |  set_draggable(self, state, use_blit=False, update='loc')\n",
      " |      Enable or disable mouse dragging support of the legend.\n",
      " |      \n",
      " |      Parameters\n",
      " |      ----------\n",
      " |      state : bool\n",
      " |          Whether mouse dragging is enabled.\n",
      " |      use_blit : bool, optional\n",
      " |          Use blitting for faster image composition. For details see\n",
      " |          :ref:`func-animation`.\n",
      " |      update : {'loc', 'bbox'}, optional\n",
      " |          The legend parameter to be changed when dragged:\n",
      " |      \n",
      " |          - 'loc': update the *loc* parameter of the legend\n",
      " |          - 'bbox': update the *bbox_to_anchor* parameter of the legend\n",
      " |      \n",
      " |      Returns\n",
      " |      -------\n",
      " |      If *state* is ``True`` this returns the `~.DraggableLegend` helper\n",
      " |      instance. Otherwise this returns ``None``.\n",
      " |  \n",
      " |  set_frame_on(self, b)\n",
      " |      Set whether the legend box patch is drawn.\n",
      " |      \n",
      " |      Parameters\n",
      " |      ----------\n",
      " |      b : bool\n",
      " |  \n",
      " |  set_title(self, title, prop=None)\n",
      " |      Set the legend title. Fontproperties can be optionally set\n",
      " |      with *prop* parameter.\n",
      " |  \n",
      " |  ----------------------------------------------------------------------\n",
      " |  Class methods defined here:\n",
      " |  \n",
      " |  get_default_handler_map() from builtins.type\n",
      " |      A class method that returns the default handler map.\n",
      " |  \n",
      " |  set_default_handler_map(handler_map) from builtins.type\n",
      " |      A class method to set the default handler map.\n",
      " |  \n",
      " |  update_default_handler_map(handler_map) from builtins.type\n",
      " |      A class method to update the default handler map.\n",
      " |  \n",
      " |  ----------------------------------------------------------------------\n",
      " |  Static methods defined here:\n",
      " |  \n",
      " |  get_legend_handler(legend_handler_map, orig_handle)\n",
      " |      Return a legend handler from *legend_handler_map* that\n",
      " |      corresponds to *orig_handler*.\n",
      " |      \n",
      " |      *legend_handler_map* should be a dictionary object (that is\n",
      " |      returned by the get_legend_handler_map method).\n",
      " |      \n",
      " |      It first checks if the *orig_handle* itself is a key in the\n",
      " |      *legend_handler_map* and return the associated value.\n",
      " |      Otherwise, it checks for each of the classes in its\n",
      " |      method-resolution-order. If no matching key is found, it\n",
      " |      returns ``None``.\n",
      " |  \n",
      " |  ----------------------------------------------------------------------\n",
      " |  Data and other attributes defined here:\n",
      " |  \n",
      " |  codes = {'best': 0, 'center': 10, 'center left': 6, 'center right': 7,...\n",
      " |  \n",
      " |  zorder = 5\n",
      " |  \n",
      " |  ----------------------------------------------------------------------\n",
      " |  Methods inherited from matplotlib.artist.Artist:\n",
      " |  \n",
      " |  __getstate__(self)\n",
      " |  \n",
      " |  add_callback(self, func)\n",
      " |      Add a callback function that will be called whenever one of the\n",
      " |      `.Artist`'s properties changes.\n",
      " |      \n",
      " |      Parameters\n",
      " |      ----------\n",
      " |      func : callable\n",
      " |          The callback function. It must have the signature::\n",
      " |      \n",
      " |              def func(artist: Artist) -> Any\n",
      " |      \n",
      " |          where *artist* is the calling `.Artist`. Return values may exist\n",
      " |          but are ignored.\n",
      " |      \n",
      " |      Returns\n",
      " |      -------\n",
      " |      oid : int\n",
      " |          The observer id associated with the callback. This id can be\n",
      " |          used for removing the callback with `.remove_callback` later.\n",
      " |      \n",
      " |      See Also\n",
      " |      --------\n",
      " |      remove_callback\n",
      " |  \n",
      " |  convert_xunits(self, x)\n",
      " |      Convert *x* using the unit type of the xaxis.\n",
      " |      \n",
      " |      If the artist is not in contained in an Axes or if the xaxis does not\n",
      " |      have units, *x* itself is returned.\n",
      " |  \n",
      " |  convert_yunits(self, y)\n",
      " |      Convert *y* using the unit type of the yaxis.\n",
      " |      \n",
      " |      If the artist is not in contained in an Axes or if the yaxis does not\n",
      " |      have units, *y* itself is returned.\n",
      " |  \n",
      " |  findobj(self, match=None, include_self=True)\n",
      " |      Find artist objects.\n",
      " |      \n",
      " |      Recursively find all `.Artist` instances contained in the artist.\n",
      " |      \n",
      " |      Parameters\n",
      " |      ----------\n",
      " |      match\n",
      " |          A filter criterion for the matches. This can be\n",
      " |      \n",
      " |          - *None*: Return all objects contained in artist.\n",
      " |          - A function with signature ``def match(artist: Artist) -> bool``.\n",
      " |            The result will only contain artists for which the function\n",
      " |            returns *True*.\n",
      " |          - A class instance: e.g., `.Line2D`. The result will only contain\n",
      " |            artists of this class or its subclasses (``isinstance`` check).\n",
      " |      \n",
      " |      include_self : bool\n",
      " |          Include *self* in the list to be checked for a match.\n",
      " |      \n",
      " |      Returns\n",
      " |      -------\n",
      " |      artists : list of `.Artist`\n",
      " |  \n",
      " |  format_cursor_data(self, data)\n",
      " |      Return a string representation of *data*.\n",
      " |      \n",
      " |      .. note::\n",
      " |          This method is intended to be overridden by artist subclasses.\n",
      " |          As an end-user of Matplotlib you will most likely not call this\n",
      " |          method yourself.\n",
      " |      \n",
      " |      The default implementation converts ints and floats and arrays of ints\n",
      " |      and floats into a comma-separated string enclosed in square brackets.\n",
      " |      \n",
      " |      See Also\n",
      " |      --------\n",
      " |      get_cursor_data\n",
      " |  \n",
      " |  get_agg_filter(self)\n",
      " |      Return filter function to be used for agg filter.\n",
      " |  \n",
      " |  get_alpha(self)\n",
      " |      Return the alpha value used for blending - not supported on all\n",
      " |      backends\n",
      " |  \n",
      " |  get_animated(self)\n",
      " |      Return the animated state.\n",
      " |  \n",
      " |  get_clip_box(self)\n",
      " |      Return the clipbox.\n",
      " |  \n",
      " |  get_clip_on(self)\n",
      " |      Return whether the artist uses clipping.\n",
      " |  \n",
      " |  get_clip_path(self)\n",
      " |      Return the clip path.\n",
      " |  \n",
      " |  get_contains(self)\n",
      " |      Return the custom contains function of the artist if set, or *None*.\n",
      " |      \n",
      " |      See Also\n",
      " |      --------\n",
      " |      set_contains\n",
      " |  \n",
      " |  get_cursor_data(self, event)\n",
      " |      Return the cursor data for a given event.\n",
      " |      \n",
      " |      .. note::\n",
      " |          This method is intended to be overridden by artist subclasses.\n",
      " |          As an end-user of Matplotlib you will most likely not call this\n",
      " |          method yourself.\n",
      " |      \n",
      " |      Cursor data can be used by Artists to provide additional context\n",
      " |      information for a given event. The default implementation just returns\n",
      " |      *None*.\n",
      " |      \n",
      " |      Subclasses can override the method and return arbitrary data. However,\n",
      " |      when doing so, they must ensure that `.format_cursor_data` can convert\n",
      " |      the data to a string representation.\n",
      " |      \n",
      " |      The only current use case is displaying the z-value of an `.AxesImage`\n",
      " |      in the status bar of a plot window, while moving the mouse.\n",
      " |      \n",
      " |      Parameters\n",
      " |      ----------\n",
      " |      event : `matplotlib.backend_bases.MouseEvent`\n",
      " |      \n",
      " |      See Also\n",
      " |      --------\n",
      " |      format_cursor_data\n",
      " |  \n",
      " |  get_figure(self)\n",
      " |      Return the `.Figure` instance the artist belongs to.\n",
      " |  \n",
      " |  get_gid(self)\n",
      " |      Return the group id.\n",
      " |  \n",
      " |  get_in_layout(self)\n",
      " |      Return boolean flag, ``True`` if artist is included in layout\n",
      " |      calculations.\n",
      " |      \n",
      " |      E.g. :doc:`/tutorials/intermediate/constrainedlayout_guide`,\n",
      " |      `.Figure.tight_layout()`, and\n",
      " |      ``fig.savefig(fname, bbox_inches='tight')``.\n",
      " |  \n",
      " |  get_label(self)\n",
      " |      Return the label used for this artist in the legend.\n",
      " |  \n",
      " |  get_path_effects(self)\n",
      " |  \n",
      " |  get_picker(self)\n",
      " |      Return the picking behavior of the artist.\n",
      " |      \n",
      " |      The possible values are described in `.set_picker`.\n",
      " |      \n",
      " |      See Also\n",
      " |      --------\n",
      " |      set_picker, pickable, pick\n",
      " |  \n",
      " |  get_rasterized(self)\n",
      " |      Return whether the artist is to be rasterized.\n",
      " |  \n",
      " |  get_sketch_params(self)\n",
      " |      Returns the sketch parameters for the artist.\n",
      " |      \n",
      " |      Returns\n",
      " |      -------\n",
      " |      sketch_params : tuple or None\n",
      " |      \n",
      " |          A 3-tuple with the following elements:\n",
      " |      \n",
      " |          - *scale*: The amplitude of the wiggle perpendicular to the\n",
      " |            source line.\n",
      " |          - *length*: The length of the wiggle along the line.\n",
      " |          - *randomness*: The scale factor by which the length is\n",
      " |            shrunken or expanded.\n",
      " |      \n",
      " |          Returns *None* if no sketch parameters were set.\n",
      " |  \n",
      " |  get_snap(self)\n",
      " |      Returns the snap setting.\n",
      " |      \n",
      " |      See `.set_snap` for details.\n",
      " |  \n",
      " |  get_transform(self)\n",
      " |      Return the `.Transform` instance used by this artist.\n",
      " |  \n",
      " |  get_transformed_clip_path_and_affine(self)\n",
      " |      Return the clip path with the non-affine part of its\n",
      " |      transformation applied, and the remaining affine part of its\n",
      " |      transformation.\n",
      " |  \n",
      " |  get_url(self)\n",
      " |      Return the url.\n",
      " |  \n",
      " |  get_visible(self)\n",
      " |      Return the visibility.\n",
      " |  \n",
      " |  get_zorder(self)\n",
      " |      Return the artist's zorder.\n",
      " |  \n",
      " |  have_units(self)\n",
      " |      Return *True* if units are set on the *x* or *y* axes.\n",
      " |  \n",
      " |  is_transform_set(self)\n",
      " |      Return whether the Artist has an explicitly set transform.\n",
      " |      \n",
      " |      This is *True* after `.set_transform` has been called.\n",
      " |  \n",
      " |  pchanged(self)\n",
      " |      Call all of the registered callbacks.\n",
      " |      \n",
      " |      This function is triggered internally when a property is changed.\n",
      " |      \n",
      " |      See Also\n",
      " |      --------\n",
      " |      add_callback\n",
      " |      remove_callback\n",
      " |  \n",
      " |  pick(self, mouseevent)\n",
      " |      Process a pick event.\n",
      " |      \n",
      " |      Each child artist will fire a pick event if *mouseevent* is over\n",
      " |      the artist and the artist has picker set.\n",
      " |      \n",
      " |      See Also\n",
      " |      --------\n",
      " |      set_picker, get_picker, pickable\n",
      " |  \n",
      " |  pickable(self)\n",
      " |      Return whether the artist is pickable.\n",
      " |      \n",
      " |      See Also\n",
      " |      --------\n",
      " |      set_picker, get_picker, pick\n",
      " |  \n",
      " |  properties(self)\n",
      " |      Return a dictionary of all the properties of the artist.\n",
      " |  \n",
      " |  remove(self)\n",
      " |      Remove the artist from the figure if possible.\n",
      " |      \n",
      " |      The effect will not be visible until the figure is redrawn, e.g.,\n",
      " |      with `.FigureCanvasBase.draw_idle`.  Call `~.axes.Axes.relim` to\n",
      " |      update the axes limits if desired.\n",
      " |      \n",
      " |      Note: `~.axes.Axes.relim` will not see collections even if the\n",
      " |      collection was added to the axes with *autolim* = True.\n",
      " |      \n",
      " |      Note: there is no support for removing the artist's legend entry.\n",
      " |  \n",
      " |  remove_callback(self, oid)\n",
      " |      Remove a callback based on its observer id.\n",
      " |      \n",
      " |      See Also\n",
      " |      --------\n",
      " |      add_callback\n",
      " |  \n",
      " |  set(self, **kwargs)\n",
      " |      A property batch setter.  Pass *kwargs* to set properties.\n",
      " |  \n",
      " |  set_agg_filter(self, filter_func)\n",
      " |      Set the agg filter.\n",
      " |      \n",
      " |      Parameters\n",
      " |      ----------\n",
      " |      filter_func : callable\n",
      " |          A filter function, which takes a (m, n, 3) float array and a dpi\n",
      " |          value, and returns a (m, n, 3) array.\n",
      " |      \n",
      " |          .. ACCEPTS: a filter function, which takes a (m, n, 3) float array\n",
      " |              and a dpi value, and returns a (m, n, 3) array\n",
      " |  \n",
      " |  set_alpha(self, alpha)\n",
      " |      Set the alpha value used for blending - not supported on all backends.\n",
      " |      \n",
      " |      Parameters\n",
      " |      ----------\n",
      " |      alpha : float\n",
      " |  \n",
      " |  set_animated(self, b)\n",
      " |      Set the artist's animation state.\n",
      " |      \n",
      " |      Parameters\n",
      " |      ----------\n",
      " |      b : bool\n",
      " |  \n",
      " |  set_clip_box(self, clipbox)\n",
      " |      Set the artist's clip `.Bbox`.\n",
      " |      \n",
      " |      Parameters\n",
      " |      ----------\n",
      " |      clipbox : `.Bbox`\n",
      " |  \n",
      " |  set_clip_on(self, b)\n",
      " |      Set whether the artist uses clipping.\n",
      " |      \n",
      " |      When False artists will be visible out side of the axes which\n",
      " |      can lead to unexpected results.\n",
      " |      \n",
      " |      Parameters\n",
      " |      ----------\n",
      " |      b : bool\n",
      " |  \n",
      " |  set_clip_path(self, path, transform=None)\n",
      " |      Set the artist's clip path, which may be:\n",
      " |      \n",
      " |      - a :class:`~matplotlib.patches.Patch` (or subclass) instance; or\n",
      " |      - a :class:`~matplotlib.path.Path` instance, in which case a\n",
      " |        :class:`~matplotlib.transforms.Transform` instance, which will be\n",
      " |        applied to the path before using it for clipping, must be provided;\n",
      " |        or\n",
      " |      - ``None``, to remove a previously set clipping path.\n",
      " |      \n",
      " |      For efficiency, if the path happens to be an axis-aligned rectangle,\n",
      " |      this method will set the clipping box to the corresponding rectangle\n",
      " |      and set the clipping path to ``None``.\n",
      " |      \n",
      " |      ACCEPTS: [(`~matplotlib.path.Path`, `.Transform`) | `.Patch` | None]\n",
      " |  \n",
      " |  set_contains(self, picker)\n",
      " |      Define a custom contains test for the artist.\n",
      " |      \n",
      " |      The provided callable replaces the default `.contains` method\n",
      " |      of the artist.\n",
      " |      \n",
      " |      Parameters\n",
      " |      ----------\n",
      " |      picker : callable\n",
      " |          A custom picker function to evaluate if an event is within the\n",
      " |          artist. The function must have the signature::\n",
      " |      \n",
      " |              def contains(artist: Artist, event: MouseEvent) -> bool, dict\n",
      " |      \n",
      " |          that returns:\n",
      " |      \n",
      " |          - a bool indicating if the event is within the artist\n",
      " |          - a dict of additional information. The dict should at least\n",
      " |            return the same information as the default ``contains()``\n",
      " |            implementation of the respective artist, but may provide\n",
      " |            additional information.\n",
      " |  \n",
      " |  set_figure(self, fig)\n",
      " |      Set the `.Figure` instance the artist belongs to.\n",
      " |      \n",
      " |      Parameters\n",
      " |      ----------\n",
      " |      fig : `.Figure`\n",
      " |  \n",
      " |  set_gid(self, gid)\n",
      " |      Set the (group) id for the artist.\n",
      " |      \n",
      " |      Parameters\n",
      " |      ----------\n",
      " |      gid : str\n",
      " |  \n",
      " |  set_in_layout(self, in_layout)\n",
      " |      Set if artist is to be included in layout calculations,\n",
      " |      E.g. :doc:`/tutorials/intermediate/constrainedlayout_guide`,\n",
      " |      `.Figure.tight_layout()`, and\n",
      " |      ``fig.savefig(fname, bbox_inches='tight')``.\n",
      " |      \n",
      " |      Parameters\n",
      " |      ----------\n",
      " |      in_layout : bool\n",
      " |  \n",
      " |  set_label(self, s)\n",
      " |      Set a label that will be displayed in the legend.\n",
      " |      \n",
      " |      Parameters\n",
      " |      ----------\n",
      " |      s : object\n",
      " |          *s* will be converted to a string by calling `str`.\n",
      " |  \n",
      " |  set_path_effects(self, path_effects)\n",
      " |      Set the path effects.\n",
      " |      \n",
      " |      Parameters\n",
      " |      ----------\n",
      " |      path_effects : `.AbstractPathEffect`\n",
      " |  \n",
      " |  set_picker(self, picker)\n",
      " |      Define the picking behavior of the artist.\n",
      " |      \n",
      " |      Parameters\n",
      " |      ----------\n",
      " |      picker : None or bool or float or callable\n",
      " |          This can be one of the following:\n",
      " |      \n",
      " |          - *None*: Picking is disabled for this artist (default).\n",
      " |      \n",
      " |          - A boolean: If *True* then picking will be enabled and the\n",
      " |            artist will fire a pick event if the mouse event is over\n",
      " |            the artist.\n",
      " |      \n",
      " |          - A float: If picker is a number it is interpreted as an\n",
      " |            epsilon tolerance in points and the artist will fire\n",
      " |            off an event if it's data is within epsilon of the mouse\n",
      " |            event.  For some artists like lines and patch collections,\n",
      " |            the artist may provide additional data to the pick event\n",
      " |            that is generated, e.g., the indices of the data within\n",
      " |            epsilon of the pick event\n",
      " |      \n",
      " |          - A function: If picker is callable, it is a user supplied\n",
      " |            function which determines whether the artist is hit by the\n",
      " |            mouse event::\n",
      " |      \n",
      " |              hit, props = picker(artist, mouseevent)\n",
      " |      \n",
      " |            to determine the hit test.  if the mouse event is over the\n",
      " |            artist, return *hit=True* and props is a dictionary of\n",
      " |            properties you want added to the PickEvent attributes.\n",
      " |  \n",
      " |  set_rasterized(self, rasterized)\n",
      " |      Force rasterized (bitmap) drawing in vector backend output.\n",
      " |      \n",
      " |      Defaults to None, which implies the backend's default behavior.\n",
      " |      \n",
      " |      Parameters\n",
      " |      ----------\n",
      " |      rasterized : bool or None\n",
      " |  \n",
      " |  set_sketch_params(self, scale=None, length=None, randomness=None)\n",
      " |      Sets the sketch parameters.\n",
      " |      \n",
      " |      Parameters\n",
      " |      ----------\n",
      " |      \n",
      " |      scale : float, optional\n",
      " |          The amplitude of the wiggle perpendicular to the source\n",
      " |          line, in pixels.  If scale is `None`, or not provided, no\n",
      " |          sketch filter will be provided.\n",
      " |      \n",
      " |      length : float, optional\n",
      " |           The length of the wiggle along the line, in pixels\n",
      " |           (default 128.0)\n",
      " |      \n",
      " |      randomness : float, optional\n",
      " |          The scale factor by which the length is shrunken or\n",
      " |          expanded (default 16.0)\n",
      " |      \n",
      " |          .. ACCEPTS: (scale: float, length: float, randomness: float)\n",
      " |  \n",
      " |  set_snap(self, snap)\n",
      " |      Set the snapping behavior.\n",
      " |      \n",
      " |      Snapping aligns positions with the pixel grid, which results in\n",
      " |      clearer images. For example, if a black line of 1px width was\n",
      " |      defined at a position in between two pixels, the resulting image\n",
      " |      would contain the interpolated value of that line in the pixel grid,\n",
      " |      which would be a grey value on both adjacent pixel positions. In\n",
      " |      contrast, snapping will move the line to the nearest integer pixel\n",
      " |      value, so that the resulting image will really contain a 1px wide\n",
      " |      black line.\n",
      " |      \n",
      " |      Snapping is currently only supported by the Agg and MacOSX backends.\n",
      " |      \n",
      " |      Parameters\n",
      " |      ----------\n",
      " |      snap : bool or None\n",
      " |          Possible values:\n",
      " |      \n",
      " |          - *True*: Snap vertices to the nearest pixel center.\n",
      " |          - *False*: Do not modify vertex positions.\n",
      " |          - *None*: (auto) If the path contains only rectilinear line\n",
      " |            segments, round to the nearest pixel center.\n",
      " |  \n",
      " |  set_transform(self, t)\n",
      " |      Set the artist transform.\n",
      " |      \n",
      " |      Parameters\n",
      " |      ----------\n",
      " |      t : `.Transform`\n",
      " |  \n",
      " |  set_url(self, url)\n",
      " |      Set the url for the artist.\n",
      " |      \n",
      " |      Parameters\n",
      " |      ----------\n",
      " |      url : str\n",
      " |  \n",
      " |  set_visible(self, b)\n",
      " |      Set the artist's visibility.\n",
      " |      \n",
      " |      Parameters\n",
      " |      ----------\n",
      " |      b : bool\n",
      " |  \n",
      " |  set_zorder(self, level)\n",
      " |      Set the zorder for the artist.  Artists with lower zorder\n",
      " |      values are drawn first.\n",
      " |      \n",
      " |      Parameters\n",
      " |      ----------\n",
      " |      level : float\n",
      " |  \n",
      " |  update(self, props)\n",
      " |      Update this artist's properties from the dictionary *props*.\n",
      " |  \n",
      " |  update_from(self, other)\n",
      " |      Copy properties from *other* to *self*.\n",
      " |  \n",
      " |  ----------------------------------------------------------------------\n",
      " |  Data descriptors inherited from matplotlib.artist.Artist:\n",
      " |  \n",
      " |  __dict__\n",
      " |      dictionary for instance variables (if defined)\n",
      " |  \n",
      " |  __weakref__\n",
      " |      list of weak references to the object (if defined)\n",
      " |  \n",
      " |  aname\n",
      " |  \n",
      " |  axes\n",
      " |      The `~.axes.Axes` instance the artist resides in, or *None*.\n",
      " |  \n",
      " |  mouseover\n",
      " |  \n",
      " |  stale\n",
      " |      Whether the artist is 'stale' and needs to be re-drawn for the output\n",
      " |      to match the internal state of the artist.\n",
      " |  \n",
      " |  sticky_edges\n",
      " |      ``x`` and ``y`` sticky edge lists for autoscaling.\n",
      " |      \n",
      " |      When performing autoscaling, if a data limit coincides with a value in\n",
      " |      the corresponding sticky_edges list, then no margin will be added--the\n",
      " |      view limit \"sticks\" to the edge. A typical use case is histograms,\n",
      " |      where one usually expects no margin on the bottom edge (0) of the\n",
      " |      histogram.\n",
      " |      \n",
      " |      This attribute cannot be assigned to; however, the ``x`` and ``y``\n",
      " |      lists can be modified in place as needed.\n",
      " |      \n",
      " |      Examples\n",
      " |      --------\n",
      " |      \n",
      " |      >>> artist.sticky_edges.x[:] = (xmin, xmax)\n",
      " |      >>> artist.sticky_edges.y[:] = (ymin, ymax)\n",
      "\n"
     ]
    },
    {
     "data": {
      "image/png": "[encoded data removed]",
      "text/plain": [
       "<Figure size 432x288 with 1 Axes>"
      ]
     },
     "metadata": {
      "needs_background": "light"
     },
     "output_type": "display_data"
    }
   ],
   "source": [
    "help(plt.legend())"
   ]
  },
  {
   "cell_type": "code",
   "execution_count": 767,
   "metadata": {},
   "outputs": [
    {
     "data": {
      "text/plain": [
       "type\n",
       "Rural        125\n",
       "Suburban     625\n",
       "Urban       1625\n",
       "Name: ride_id, dtype: int64"
      ]
     },
     "execution_count": 767,
     "metadata": {},
     "output_type": "execute_result"
    }
   ],
   "source": [
    "#find the number of rides per city type using count\n",
    "rides_by_citytype = pyber_data_df.groupby(\"type\").count()['ride_id']\n",
    "rides_by_citytype"
   ]
  },
  {
   "cell_type": "code",
   "execution_count": 768,
   "metadata": {
    "scrolled": true
   },
   "outputs": [
    {
     "data": {
      "text/plain": [
       "2375"
      ]
     },
     "execution_count": 768,
     "metadata": {},
     "output_type": "execute_result"
    }
   ],
   "source": [
    "#find total rides for all the city type\n",
    "total_rides = rides_by_citytype.sum()\n",
    "total_rides"
   ]
  },
  {
   "cell_type": "code",
   "execution_count": 769,
   "metadata": {},
   "outputs": [
    {
     "data": {
      "text/plain": [
       "type\n",
       "Rural        5.263158\n",
       "Suburban    26.315789\n",
       "Urban       68.421053\n",
       "Name: ride_id, dtype: float64"
      ]
     },
     "execution_count": 769,
     "metadata": {},
     "output_type": "execute_result"
    }
   ],
   "source": [
    "#calculate the percentage share of rides by each city type\n",
    "percentage_rides_by_citytype = (rides_by_citytype / total_rides ) * 100\n",
    "percentage_rides_by_citytype"
   ]
  },
  {
   "cell_type": "code",
   "execution_count": 770,
   "metadata": {
    "scrolled": true
   },
   "outputs": [
    {
     "data": {
      "image/png": "[encoded data removed]",
      "text/plain": [
       "<Figure size 720x432 with 1 Axes>"
      ]
     },
     "metadata": {},
     "output_type": "display_data"
    }
   ],
   "source": [
    "#import dependency\n",
    "import matplotlib as mpl\n",
    "\n",
    "plt.subplots(figsize=(10,6))\n",
    "# Build the percentage of fares by city type pie chart.\n",
    "plt.pie(percentage_rides_by_citytype, \n",
    "        labels=[\"Rural\", \"Suburban\", \"Urban\"],\n",
    "        colors=[\"gold\", \"lightskyblue\", \"lightcoral\"],\n",
    "        explode=[0,0,0.1],\n",
    "        autopct=\"%.1f%%\",\n",
    "        shadow=True, startangle=150)\n",
    "plt.title(\"% of Total rides by city type\")\n",
    "\n",
    "mpl.rcParams['font.size'] = 14\n",
    "\n",
    "#save the figure\n",
    "plt.savefig(\"analysis/Fig6.png\")\n",
    "plt.show()"
   ]
  },
  {
   "cell_type": "code",
   "execution_count": 771,
   "metadata": {},
   "outputs": [
    {
     "data": {
      "text/plain": [
       "type\n",
       "Rural         537\n",
       "Suburban     8570\n",
       "Urban       59602\n",
       "Name: driver_count, dtype: int64"
      ]
     },
     "execution_count": 771,
     "metadata": {},
     "output_type": "execute_result"
    }
   ],
   "source": [
    "pyber_data_df.groupby(\"type\")['driver_count'].sum()"
   ]
  },
  {
   "cell_type": "code",
   "execution_count": 772,
   "metadata": {},
   "outputs": [
    {
     "data": {
      "text/plain": [
       "type\n",
       "Rural         537\n",
       "Suburban     8570\n",
       "Urban       59602\n",
       "Name: driver_count, dtype: int64"
      ]
     },
     "execution_count": 772,
     "metadata": {},
     "output_type": "execute_result"
    }
   ],
   "source": [
    "#calculate drivercount for each individual city type\n",
    "drivercount_by_citytype = pyber_data_df.groupby(\"type\").sum()['driver_count']\n",
    "drivercount_by_citytype"
   ]
  },
  {
   "cell_type": "code",
   "execution_count": 773,
   "metadata": {},
   "outputs": [
    {
     "data": {
      "text/plain": [
       "68709"
      ]
     },
     "execution_count": 773,
     "metadata": {},
     "output_type": "execute_result"
    }
   ],
   "source": [
    "#calculate the total driver for all the city type\n",
    "total_drivercount = drivercount_by_citytype.sum()\n",
    "total_drivercount"
   ]
  },
  {
   "cell_type": "code",
   "execution_count": 774,
   "metadata": {},
   "outputs": [
    {
     "data": {
      "text/plain": [
       "type\n",
       "Rural        0.781557\n",
       "Suburban    12.472893\n",
       "Urban       86.745550\n",
       "Name: driver_count, dtype: float64"
      ]
     },
     "execution_count": 774,
     "metadata": {},
     "output_type": "execute_result"
    }
   ],
   "source": [
    "#caluclate percentage of drivercount by city type\n",
    "percentage_drivercount_by_citytype = (drivercount_by_citytype / total_drivercount) *100\n",
    "percentage_drivercount_by_citytype"
   ]
  },
  {
   "cell_type": "code",
   "execution_count": 775,
   "metadata": {},
   "outputs": [
    {
     "data": {
      "image/png": "[encoded data removed]",
      "text/plain": [
       "<Figure size 720x432 with 1 Axes>"
      ]
     },
     "metadata": {},
     "output_type": "display_data"
    }
   ],
   "source": [
    "#import dependency\n",
    "import matplotlib as mpl\n",
    "\n",
    "plt.subplots(figsize=(10,6))\n",
    "# Build the percentage of fares by city type pie chart.\n",
    "plt.pie(percentage_drivercount_by_citytype, \n",
    "        labels=[\"Rural\", \"Suburban\", \"Urban\"],\n",
    "        colors=[\"gold\", \"lightskyblue\", \"lightcoral\"],\n",
    "        explode=[0,0,0.1],\n",
    "        autopct=\"%.1f%%\",\n",
    "        shadow=True, startangle=165)\n",
    "plt.title(\"% of Total drivercount by city type\")\n",
    "\n",
    "mpl.rcParams['font.size'] = 14\n",
    "\n",
    "#save the figure\n",
    "plt.savefig(\"analysis/Fig7.png\")\n",
    "plt.show()"
   ]
  },
  {
   "cell_type": "markdown",
   "metadata": {},
   "source": [
    "# Challenge"
   ]
  },
  {
   "cell_type": "code",
   "execution_count": 776,
   "metadata": {},
   "outputs": [
    {
     "data": {
      "text/plain": [
       "type\n",
       "Rural        125\n",
       "Suburban     625\n",
       "Urban       1625\n",
       "Name: ride_id, dtype: int64"
      ]
     },
     "execution_count": 776,
     "metadata": {},
     "output_type": "execute_result"
    }
   ],
   "source": [
    "#calculate the total rides by city type\n",
    "total_rides_by_city_type = pyber_data_df.groupby(\"type\").count()['ride_id']\n",
    "total_rides_by_city_type"
   ]
  },
  {
   "cell_type": "code",
   "execution_count": 777,
   "metadata": {},
   "outputs": [
    {
     "data": {
      "text/plain": [
       "<pandas.core.groupby.generic.SeriesGroupBy object at 0x12288ef28>"
      ]
     },
     "execution_count": 777,
     "metadata": {},
     "output_type": "execute_result"
    }
   ],
   "source": [
    "pyber_data_df.groupby(\"type\")['driver_count']"
   ]
  },
  {
   "cell_type": "code",
   "execution_count": 778,
   "metadata": {},
   "outputs": [
    {
     "data": {
      "text/plain": [
       "type\n",
       "Rural         78\n",
       "Suburban     490\n",
       "Urban       2405\n",
       "Name: driver_count, dtype: int64"
      ]
     },
     "execution_count": 778,
     "metadata": {},
     "output_type": "execute_result"
    }
   ],
   "source": [
    "#calculate the total drivers by city type\n",
    "total_driver_count_by_city_type = city_data_df.groupby(\"type\")['driver_count'].sum()\n",
    "total_driver_count_by_city_type"
   ]
  },
  {
   "cell_type": "code",
   "execution_count": 779,
   "metadata": {},
   "outputs": [
    {
     "data": {
      "text/plain": [
       "type\n",
       "Rural        4327.93\n",
       "Suburban    19356.33\n",
       "Urban       39854.38\n",
       "Name: fare, dtype: float64"
      ]
     },
     "execution_count": 779,
     "metadata": {},
     "output_type": "execute_result"
    }
   ],
   "source": [
    "#calculate the total fare by city type\n",
    "total_fare_by_city_type = pyber_data_df.groupby(\"type\")['fare'].sum()\n",
    "total_fare_by_city_type "
   ]
  },
  {
   "cell_type": "code",
   "execution_count": 780,
   "metadata": {},
   "outputs": [
    {
     "data": {
      "text/plain": [
       "type\n",
       "Rural       34.623440\n",
       "Suburban    30.970128\n",
       "Urban       24.525772\n",
       "Name: fare, dtype: float64"
      ]
     },
     "execution_count": 780,
     "metadata": {},
     "output_type": "execute_result"
    }
   ],
   "source": [
    "#calculate the average fare per ride by city type\n",
    "average_fare_per_ride_city_type = pyber_data_df.groupby(\"type\")['fare'].mean()\n",
    "average_fare_per_ride_city_type"
   ]
  },
  {
   "cell_type": "code",
   "execution_count": 781,
   "metadata": {},
   "outputs": [
    {
     "data": {
      "text/plain": [
       "type\n",
       "Rural        4327.93\n",
       "Suburban    19356.33\n",
       "Urban       39854.38\n",
       "Name: fare, dtype: float64"
      ]
     },
     "execution_count": 781,
     "metadata": {},
     "output_type": "execute_result"
    }
   ],
   "source": [
    "#calculate total sum of the fares by city type\n",
    "total_sum_of_fare_city_type = pyber_data_df.groupby(\"type\")['fare'].sum()\n",
    "total_sum_of_fare_city_type"
   ]
  },
  {
   "cell_type": "code",
   "execution_count": 782,
   "metadata": {},
   "outputs": [
    {
     "data": {
      "text/plain": [
       "type\n",
       "Rural       55.486282\n",
       "Suburban    39.502714\n",
       "Urban       16.571468\n",
       "dtype: float64"
      ]
     },
     "execution_count": 782,
     "metadata": {},
     "output_type": "execute_result"
    }
   ],
   "source": [
    "#calculate the average fare per driver by city type\n",
    "average_fare_per_driver_city_type = total_sum_of_fare_city_type / total_driver_count_by_city_type\n",
    "average_fare_per_driver_city_type"
   ]
  },
  {
   "cell_type": "code",
   "execution_count": 783,
   "metadata": {},
   "outputs": [
    {
     "data": {
      "text/html": [
       "<div>\n",
       "<style scoped>\n",
       "    .dataframe tbody tr th:only-of-type {\n",
       "        vertical-align: middle;\n",
       "    }\n",
       "\n",
       "    .dataframe tbody tr th {\n",
       "        vertical-align: top;\n",
       "    }\n",
       "\n",
       "    .dataframe thead th {\n",
       "        text-align: right;\n",
       "    }\n",
       "</style>\n",
       "<table border=\"1\" class=\"dataframe\">\n",
       "  <thead>\n",
       "    <tr style=\"text-align: right;\">\n",
       "      <th></th>\n",
       "      <th>Total Rides</th>\n",
       "      <th>Total Drivers</th>\n",
       "      <th>Total Fares</th>\n",
       "      <th>Average Fare per Ride</th>\n",
       "      <th>Average Fare per Driver</th>\n",
       "    </tr>\n",
       "    <tr>\n",
       "      <th>type</th>\n",
       "      <th></th>\n",
       "      <th></th>\n",
       "      <th></th>\n",
       "      <th></th>\n",
       "      <th></th>\n",
       "    </tr>\n",
       "  </thead>\n",
       "  <tbody>\n",
       "    <tr>\n",
       "      <th>Rural</th>\n",
       "      <td>125</td>\n",
       "      <td>78</td>\n",
       "      <td>4327.93</td>\n",
       "      <td>34.623440</td>\n",
       "      <td>55.486282</td>\n",
       "    </tr>\n",
       "    <tr>\n",
       "      <th>Suburban</th>\n",
       "      <td>625</td>\n",
       "      <td>490</td>\n",
       "      <td>19356.33</td>\n",
       "      <td>30.970128</td>\n",
       "      <td>39.502714</td>\n",
       "    </tr>\n",
       "    <tr>\n",
       "      <th>Urban</th>\n",
       "      <td>1625</td>\n",
       "      <td>2405</td>\n",
       "      <td>39854.38</td>\n",
       "      <td>24.525772</td>\n",
       "      <td>16.571468</td>\n",
       "    </tr>\n",
       "  </tbody>\n",
       "</table>\n",
       "</div>"
      ],
      "text/plain": [
       "          Total Rides  Total Drivers  Total Fares  Average Fare per Ride  \\\n",
       "type                                                                       \n",
       "Rural             125             78      4327.93              34.623440   \n",
       "Suburban          625            490     19356.33              30.970128   \n",
       "Urban            1625           2405     39854.38              24.525772   \n",
       "\n",
       "          Average Fare per Driver  \n",
       "type                               \n",
       "Rural                   55.486282  \n",
       "Suburban                39.502714  \n",
       "Urban                   16.571468  "
      ]
     },
     "execution_count": 783,
     "metadata": {},
     "output_type": "execute_result"
    }
   ],
   "source": [
    "#create a new summary dataframe with all the above data\n",
    "pyber_summary_df = pd.DataFrame({\n",
    "    \"Total Rides\": total_rides_by_city_type,\n",
    "    \"Total Drivers\": total_driver_count_by_city_type,\n",
    "    \"Total Fares\": total_fare_by_city_type,\n",
    "    \"Average Fare per Ride\": average_fare_per_ride_city_type,\n",
    "    \"Average Fare per Driver\": average_fare_per_driver_city_type\n",
    "})\n",
    "pyber_summary_df"
   ]
  },
  {
   "cell_type": "code",
   "execution_count": 784,
   "metadata": {},
   "outputs": [
    {
     "data": {
      "text/html": [
       "<div>\n",
       "<style scoped>\n",
       "    .dataframe tbody tr th:only-of-type {\n",
       "        vertical-align: middle;\n",
       "    }\n",
       "\n",
       "    .dataframe tbody tr th {\n",
       "        vertical-align: top;\n",
       "    }\n",
       "\n",
       "    .dataframe thead th {\n",
       "        text-align: right;\n",
       "    }\n",
       "</style>\n",
       "<table border=\"1\" class=\"dataframe\">\n",
       "  <thead>\n",
       "    <tr style=\"text-align: right;\">\n",
       "      <th></th>\n",
       "      <th>Total Rides</th>\n",
       "      <th>Total Drivers</th>\n",
       "      <th>Total Fares</th>\n",
       "      <th>Average Fare per Ride</th>\n",
       "      <th>Average Fare per Driver</th>\n",
       "    </tr>\n",
       "  </thead>\n",
       "  <tbody>\n",
       "    <tr>\n",
       "      <th>Rural</th>\n",
       "      <td>125</td>\n",
       "      <td>78</td>\n",
       "      <td>4327.93</td>\n",
       "      <td>34.623440</td>\n",
       "      <td>55.486282</td>\n",
       "    </tr>\n",
       "    <tr>\n",
       "      <th>Suburban</th>\n",
       "      <td>625</td>\n",
       "      <td>490</td>\n",
       "      <td>19356.33</td>\n",
       "      <td>30.970128</td>\n",
       "      <td>39.502714</td>\n",
       "    </tr>\n",
       "    <tr>\n",
       "      <th>Urban</th>\n",
       "      <td>1625</td>\n",
       "      <td>2405</td>\n",
       "      <td>39854.38</td>\n",
       "      <td>24.525772</td>\n",
       "      <td>16.571468</td>\n",
       "    </tr>\n",
       "  </tbody>\n",
       "</table>\n",
       "</div>"
      ],
      "text/plain": [
       "          Total Rides  Total Drivers  Total Fares  Average Fare per Ride  \\\n",
       "Rural             125             78      4327.93              34.623440   \n",
       "Suburban          625            490     19356.33              30.970128   \n",
       "Urban            1625           2405     39854.38              24.525772   \n",
       "\n",
       "          Average Fare per Driver  \n",
       "Rural                   55.486282  \n",
       "Suburban                39.502714  \n",
       "Urban                   16.571468  "
      ]
     },
     "execution_count": 784,
     "metadata": {},
     "output_type": "execute_result"
    }
   ],
   "source": [
    "#remove the index column name\n",
    "pyber_summary_df.index.name = None\n",
    "pyber_summary_df"
   ]
  },
  {
   "cell_type": "code",
   "execution_count": 786,
   "metadata": {},
   "outputs": [],
   "source": [
    "#format the Total fares and Average Fare\n",
    "pyber_summary_df[\"Total Fares\"] = pyber_summary_df[\"Total Fares\"].map(\"${:.2f}\".format)\n",
    "pyber_summary_df[\"Average Fare per Ride\"] = pyber_summary_df[\"Average Fare per Ride\"].map(\"${:.2f}\".format)\n",
    "pyber_summary_df[\"Average Fare per Driver\"] = pyber_summary_df[\"Average Fare per Driver\"].map(\"${:.2f}\".format)"
   ]
  },
  {
   "cell_type": "code",
   "execution_count": 787,
   "metadata": {},
   "outputs": [
    {
     "data": {
      "text/html": [
       "<div>\n",
       "<style scoped>\n",
       "    .dataframe tbody tr th:only-of-type {\n",
       "        vertical-align: middle;\n",
       "    }\n",
       "\n",
       "    .dataframe tbody tr th {\n",
       "        vertical-align: top;\n",
       "    }\n",
       "\n",
       "    .dataframe thead th {\n",
       "        text-align: right;\n",
       "    }\n",
       "</style>\n",
       "<table border=\"1\" class=\"dataframe\">\n",
       "  <thead>\n",
       "    <tr style=\"text-align: right;\">\n",
       "      <th></th>\n",
       "      <th>Total Rides</th>\n",
       "      <th>Total Drivers</th>\n",
       "      <th>Total Fares</th>\n",
       "      <th>Average Fare per Ride</th>\n",
       "      <th>Average Fare per Driver</th>\n",
       "    </tr>\n",
       "  </thead>\n",
       "  <tbody>\n",
       "    <tr>\n",
       "      <th>Rural</th>\n",
       "      <td>125</td>\n",
       "      <td>78</td>\n",
       "      <td>$4327.93</td>\n",
       "      <td>$34.62</td>\n",
       "      <td>$55.49</td>\n",
       "    </tr>\n",
       "    <tr>\n",
       "      <th>Suburban</th>\n",
       "      <td>625</td>\n",
       "      <td>490</td>\n",
       "      <td>$19356.33</td>\n",
       "      <td>$30.97</td>\n",
       "      <td>$39.50</td>\n",
       "    </tr>\n",
       "    <tr>\n",
       "      <th>Urban</th>\n",
       "      <td>1625</td>\n",
       "      <td>2405</td>\n",
       "      <td>$39854.38</td>\n",
       "      <td>$24.53</td>\n",
       "      <td>$16.57</td>\n",
       "    </tr>\n",
       "  </tbody>\n",
       "</table>\n",
       "</div>"
      ],
      "text/plain": [
       "          Total Rides  Total Drivers Total Fares Average Fare per Ride  \\\n",
       "Rural             125             78    $4327.93                $34.62   \n",
       "Suburban          625            490   $19356.33                $30.97   \n",
       "Urban            1625           2405   $39854.38                $24.53   \n",
       "\n",
       "         Average Fare per Driver  \n",
       "Rural                     $55.49  \n",
       "Suburban                  $39.50  \n",
       "Urban                     $16.57  "
      ]
     },
     "execution_count": 787,
     "metadata": {},
     "output_type": "execute_result"
    }
   ],
   "source": [
    "pyber_summary_df"
   ]
  },
  {
   "cell_type": "code",
   "execution_count": null,
   "metadata": {},
   "outputs": [],
   "source": []
  }
 ],
 "metadata": {
  "kernelspec": {
   "display_name": "PythonData",
   "language": "python",
   "name": "pythondata"
  },
  "language_info": {
   "codemirror_mode": {
    "name": "ipython",
    "version": 3
   },
   "file_extension": ".py",
   "mimetype": "text/x-python",
   "name": "python",
   "nbconvert_exporter": "python",
   "pygments_lexer": "ipython3",
   "version": "3.6.10"
  }
 },
 "nbformat": 4,
 "nbformat_minor": 4
}
